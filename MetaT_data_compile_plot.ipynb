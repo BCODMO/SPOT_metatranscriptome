{
 "cells": [
  {
   "cell_type": "markdown",
   "metadata": {},
   "source": [
    "# Metatranscriptome data synthesis and plotting:"
   ]
  },
  {
   "cell_type": "code",
   "execution_count": 1,
   "metadata": {
    "collapsed": false
   },
   "outputs": [
    {
     "name": "stderr",
     "output_type": "stream",
     "text": [
      "Loading required package: limma\n",
      "\n",
      "Attaching package: ‘dplyr’\n",
      "\n",
      "The following objects are masked from ‘package:plyr’:\n",
      "\n",
      "    arrange, count, desc, failwith, id, mutate, rename, summarise,\n",
      "    summarize\n",
      "\n",
      "The following objects are masked from ‘package:stats’:\n",
      "\n",
      "    filter, lag\n",
      "\n",
      "The following objects are masked from ‘package:base’:\n",
      "\n",
      "    intersect, setdiff, setequal, union\n",
      "\n",
      "--\n",
      "Consider donating at: http://ggtern.com\n",
      "Even small amounts (say $10-50) are very much appreciated!\n",
      "Remember to cite, run citation(package = 'ggtern') for further info.\n",
      "--\n",
      "\n",
      "Attaching package: ‘ggtern’\n",
      "\n",
      "The following objects are masked from ‘package:ggplot2’:\n",
      "\n",
      "    %+%, aes, annotate, calc_element, ggplot, ggplot_build,\n",
      "    ggplot_gtable, ggplotGrob, ggsave, layer_data, theme, theme_bw,\n",
      "    theme_classic, theme_dark, theme_gray, theme_light, theme_linedraw,\n",
      "    theme_minimal, theme_void\n",
      "\n",
      "Loading required package: permute\n",
      "Loading required package: lattice\n",
      "\n",
      "Attaching package: ‘lattice’\n",
      "\n",
      "The following object is masked from ‘package:UpSetR’:\n",
      "\n",
      "    histogram\n",
      "\n",
      "This is vegan 2.4-3\n"
     ]
    }
   ],
   "source": [
    "#Make sure these are all installed!\n",
    "library(edgeR)\n",
    "library(plyr)\n",
    "library(dplyr)\n",
    "library(reshape2)\n",
    "library(ggplot2)\n",
    "library(ggtern)\n",
    "library(UpSetR)\n",
    "library(vegan)"
   ]
  },
  {
   "cell_type": "markdown",
   "metadata": {},
   "source": [
    "# EdgeR normalization and importing annotation information"
   ]
  },
  {
   "cell_type": "code",
   "execution_count": 2,
   "metadata": {
    "collapsed": false
   },
   "outputs": [
    {
     "data": {
      "text/html": [
       "<table>\n",
       "<thead><tr><th scope=col>X</th><th scope=col>K0_number</th><th scope=col>Level2</th><th scope=col>Depth</th><th scope=col>Cluster</th><th scope=col>Count</th><th scope=col>Sample10</th><th scope=col>Sample11</th><th scope=col>Sample12</th><th scope=col>Sample25</th><th scope=col>Sample26</th><th scope=col>Sample27</th><th scope=col>Sample28</th><th scope=col>Sample29</th><th scope=col>Sample30</th><th scope=col>Sample31</th><th scope=col>Sample7</th><th scope=col>Sample8</th><th scope=col>Sample9</th></tr></thead>\n",
       "<tbody>\n",
       "\t<tr><td>k99_1000000_deep890m</td><td>                    </td><td>Unannotated         </td><td>deep890m            </td><td>Cluster 83763       </td><td>0                   </td><td>0                   </td><td>0                   </td><td>0                   </td><td>0                   </td><td>0                   </td><td>0                   </td><td>19                  </td><td>56                  </td><td>34                  </td><td>54                  </td><td>0                   </td><td>0                   </td><td>0                   </td></tr>\n",
       "\t<tr><td>k99_1000000_surface </td><td>                    </td><td>Unannotated         </td><td>surface             </td><td>Cluster 2817082     </td><td>0                   </td><td>1                   </td><td>2                   </td><td>0                   </td><td>0                   </td><td>0                   </td><td>0                   </td><td> 0                  </td><td> 0                  </td><td> 0                  </td><td> 0                  </td><td>0                   </td><td>0                   </td><td>0                   </td></tr>\n",
       "\t<tr><td>k99_1000001_deep890m</td><td>                    </td><td>Uncertain           </td><td>deep890m            </td><td>Cluster 225311      </td><td>0                   </td><td>0                   </td><td>0                   </td><td>0                   </td><td>4                   </td><td>0                   </td><td>7                   </td><td> 3                  </td><td> 7                  </td><td>12                  </td><td> 7                  </td><td>0                   </td><td>0                   </td><td>0                   </td></tr>\n",
       "\t<tr><td>k99_1000001_surface </td><td>                    </td><td>Unannotated         </td><td>surface             </td><td>Cluster 3149625     </td><td>0                   </td><td>0                   </td><td>0                   </td><td>2                   </td><td>0                   </td><td>0                   </td><td>0                   </td><td> 0                  </td><td> 0                  </td><td> 0                  </td><td> 0                  </td><td>0                   </td><td>1                   </td><td>2                   </td></tr>\n",
       "\t<tr><td>k99_1000005_deep150m</td><td>K01099              </td><td>Ciliate             </td><td>deep150m            </td><td>Cluster 2358053     </td><td>0                   </td><td>0                   </td><td>0                   </td><td>0                   </td><td>4                   </td><td>8                   </td><td>1                   </td><td> 0                  </td><td> 0                  </td><td> 0                  </td><td> 0                  </td><td>0                   </td><td>0                   </td><td>0                   </td></tr>\n",
       "\t<tr><td>k99_1000005_deep890m</td><td>                    </td><td>Unannotated         </td><td>deep890m            </td><td>Cluster 30751       </td><td>0                   </td><td>0                   </td><td>0                   </td><td>0                   </td><td>0                   </td><td>0                   </td><td>0                   </td><td> 5                  </td><td>25                  </td><td>10                  </td><td> 5                  </td><td>0                   </td><td>0                   </td><td>0                   </td></tr>\n",
       "</tbody>\n",
       "</table>\n"
      ],
      "text/latex": [
       "\\begin{tabular}{r|lllllllllllllllllll}\n",
       " X & K0\\_number & Level2 & Depth & Cluster & Count & Sample10 & Sample11 & Sample12 & Sample25 & Sample26 & Sample27 & Sample28 & Sample29 & Sample30 & Sample31 & Sample7 & Sample8 & Sample9\\\\\n",
       "\\hline\n",
       "\t k99\\_1000000\\_deep890m &                          & Unannotated              & deep890m                 & Cluster 83763            & 0                        & 0                        & 0                        & 0                        & 0                        & 0                        & 0                        & 19                       & 56                       & 34                       & 54                       & 0                        & 0                        & 0                       \\\\\n",
       "\t k99\\_1000000\\_surface  &                          & Unannotated              & surface                  & Cluster 2817082          & 0                        & 1                        & 2                        & 0                        & 0                        & 0                        & 0                        &  0                       &  0                       &  0                       &  0                       & 0                        & 0                        & 0                       \\\\\n",
       "\t k99\\_1000001\\_deep890m &                          & Uncertain                & deep890m                 & Cluster 225311           & 0                        & 0                        & 0                        & 0                        & 4                        & 0                        & 7                        &  3                       &  7                       & 12                       &  7                       & 0                        & 0                        & 0                       \\\\\n",
       "\t k99\\_1000001\\_surface  &                          & Unannotated              & surface                  & Cluster 3149625          & 0                        & 0                        & 0                        & 2                        & 0                        & 0                        & 0                        &  0                       &  0                       &  0                       &  0                       & 0                        & 1                        & 2                       \\\\\n",
       "\t k99\\_1000005\\_deep150m & K01099                   & Ciliate                  & deep150m                 & Cluster 2358053          & 0                        & 0                        & 0                        & 0                        & 4                        & 8                        & 1                        &  0                       &  0                       &  0                       &  0                       & 0                        & 0                        & 0                       \\\\\n",
       "\t k99\\_1000005\\_deep890m &                          & Unannotated              & deep890m                 & Cluster 30751            & 0                        & 0                        & 0                        & 0                        & 0                        & 0                        & 0                        &  5                       & 25                       & 10                       &  5                       & 0                        & 0                        & 0                       \\\\\n",
       "\\end{tabular}\n"
      ],
      "text/markdown": [
       "\n",
       "X | K0_number | Level2 | Depth | Cluster | Count | Sample10 | Sample11 | Sample12 | Sample25 | Sample26 | Sample27 | Sample28 | Sample29 | Sample30 | Sample31 | Sample7 | Sample8 | Sample9 | \n",
       "|---|---|---|---|---|---|\n",
       "| k99_1000000_deep890m |                      | Unannotated          | deep890m             | Cluster 83763        | 0                    | 0                    | 0                    | 0                    | 0                    | 0                    | 0                    | 19                   | 56                   | 34                   | 54                   | 0                    | 0                    | 0                    | \n",
       "| k99_1000000_surface  |                      | Unannotated          | surface              | Cluster 2817082      | 0                    | 1                    | 2                    | 0                    | 0                    | 0                    | 0                    |  0                   |  0                   |  0                   |  0                   | 0                    | 0                    | 0                    | \n",
       "| k99_1000001_deep890m |                      | Uncertain            | deep890m             | Cluster 225311       | 0                    | 0                    | 0                    | 0                    | 4                    | 0                    | 7                    |  3                   |  7                   | 12                   |  7                   | 0                    | 0                    | 0                    | \n",
       "| k99_1000001_surface  |                      | Unannotated          | surface              | Cluster 3149625      | 0                    | 0                    | 0                    | 2                    | 0                    | 0                    | 0                    |  0                   |  0                   |  0                   |  0                   | 0                    | 1                    | 2                    | \n",
       "| k99_1000005_deep150m | K01099               | Ciliate              | deep150m             | Cluster 2358053      | 0                    | 0                    | 0                    | 0                    | 4                    | 8                    | 1                    |  0                   |  0                   |  0                   |  0                   | 0                    | 0                    | 0                    | \n",
       "| k99_1000005_deep890m |                      | Unannotated          | deep890m             | Cluster 30751        | 0                    | 0                    | 0                    | 0                    | 0                    | 0                    | 0                    |  5                   | 25                   | 10                   |  5                   | 0                    | 0                    | 0                    | \n",
       "\n",
       "\n"
      ],
      "text/plain": [
       "  X                    K0_number Level2      Depth    Cluster         Count\n",
       "1 k99_1000000_deep890m           Unannotated deep890m Cluster 83763   0    \n",
       "2 k99_1000000_surface            Unannotated surface  Cluster 2817082 0    \n",
       "3 k99_1000001_deep890m           Uncertain   deep890m Cluster 225311  0    \n",
       "4 k99_1000001_surface            Unannotated surface  Cluster 3149625 0    \n",
       "5 k99_1000005_deep150m K01099    Ciliate     deep150m Cluster 2358053 0    \n",
       "6 k99_1000005_deep890m           Unannotated deep890m Cluster 30751   0    \n",
       "  Sample10 Sample11 Sample12 Sample25 Sample26 Sample27 Sample28 Sample29\n",
       "1 0        0        0        0        0        0        19       56      \n",
       "2 1        2        0        0        0        0         0        0      \n",
       "3 0        0        0        4        0        7         3        7      \n",
       "4 0        0        2        0        0        0         0        0      \n",
       "5 0        0        0        4        8        1         0        0      \n",
       "6 0        0        0        0        0        0         5       25      \n",
       "  Sample30 Sample31 Sample7 Sample8 Sample9\n",
       "1 34       54       0       0       0      \n",
       "2  0        0       0       0       0      \n",
       "3 12        7       0       0       0      \n",
       "4  0        0       0       1       2      \n",
       "5  0        0       0       0       0      \n",
       "6 10        5       0       0       0      "
      ]
     },
     "metadata": {},
     "output_type": "display_data"
    },
    {
     "data": {
      "text/html": [
       "<ol class=list-inline>\n",
       "\t<li>'X'</li>\n",
       "\t<li>'K0_number'</li>\n",
       "\t<li>'Level2'</li>\n",
       "\t<li>'Depth'</li>\n",
       "\t<li>'Cluster'</li>\n",
       "\t<li>'Count'</li>\n",
       "\t<li>'Sample10'</li>\n",
       "\t<li>'Sample11'</li>\n",
       "\t<li>'Sample12'</li>\n",
       "\t<li>'Sample25'</li>\n",
       "\t<li>'Sample26'</li>\n",
       "\t<li>'Sample27'</li>\n",
       "\t<li>'Sample28'</li>\n",
       "\t<li>'Sample29'</li>\n",
       "\t<li>'Sample30'</li>\n",
       "\t<li>'Sample31'</li>\n",
       "\t<li>'Sample7'</li>\n",
       "\t<li>'Sample8'</li>\n",
       "\t<li>'Sample9'</li>\n",
       "</ol>\n"
      ],
      "text/latex": [
       "\\begin{enumerate*}\n",
       "\\item 'X'\n",
       "\\item 'K0\\_number'\n",
       "\\item 'Level2'\n",
       "\\item 'Depth'\n",
       "\\item 'Cluster'\n",
       "\\item 'Count'\n",
       "\\item 'Sample10'\n",
       "\\item 'Sample11'\n",
       "\\item 'Sample12'\n",
       "\\item 'Sample25'\n",
       "\\item 'Sample26'\n",
       "\\item 'Sample27'\n",
       "\\item 'Sample28'\n",
       "\\item 'Sample29'\n",
       "\\item 'Sample30'\n",
       "\\item 'Sample31'\n",
       "\\item 'Sample7'\n",
       "\\item 'Sample8'\n",
       "\\item 'Sample9'\n",
       "\\end{enumerate*}\n"
      ],
      "text/markdown": [
       "1. 'X'\n",
       "2. 'K0_number'\n",
       "3. 'Level2'\n",
       "4. 'Depth'\n",
       "5. 'Cluster'\n",
       "6. 'Count'\n",
       "7. 'Sample10'\n",
       "8. 'Sample11'\n",
       "9. 'Sample12'\n",
       "10. 'Sample25'\n",
       "11. 'Sample26'\n",
       "12. 'Sample27'\n",
       "13. 'Sample28'\n",
       "14. 'Sample29'\n",
       "15. 'Sample30'\n",
       "16. 'Sample31'\n",
       "17. 'Sample7'\n",
       "18. 'Sample8'\n",
       "19. 'Sample9'\n",
       "\n",
       "\n"
      ],
      "text/plain": [
       " [1] \"X\"         \"K0_number\" \"Level2\"    \"Depth\"     \"Cluster\"   \"Count\"    \n",
       " [7] \"Sample10\"  \"Sample11\"  \"Sample12\"  \"Sample25\"  \"Sample26\"  \"Sample27\" \n",
       "[13] \"Sample28\"  \"Sample29\"  \"Sample30\"  \"Sample31\"  \"Sample7\"   \"Sample8\"  \n",
       "[19] \"Sample9\"  "
      ]
     },
     "metadata": {},
     "output_type": "display_data"
    }
   ],
   "source": [
    "#from python script - OrthoMCL parsing\n",
    "rawdata<-read.csv(\"RawCounts_bycontig_annotated.csv\", header=TRUE)\n",
    "head(rawdata); names(rawdata)"
   ]
  },
  {
   "cell_type": "code",
   "execution_count": null,
   "metadata": {
    "collapsed": true
   },
   "outputs": [],
   "source": [
    "#To run through script with a small dataset use:\n",
    "#rawdata<-read.csv(\"test_file_05022017.csv\")"
   ]
  },
  {
   "cell_type": "code",
   "execution_count": 3,
   "metadata": {
    "collapsed": false
   },
   "outputs": [
    {
     "data": {
      "text/html": [
       "<table>\n",
       "<thead><tr><th></th><th scope=col>group</th><th scope=col>lib.size</th><th scope=col>norm.factors</th></tr></thead>\n",
       "<tbody>\n",
       "\t<tr><th scope=row>Sample7</th><td>Surface  </td><td> 8035213 </td><td>1        </td></tr>\n",
       "\t<tr><th scope=row>Sample8</th><td>Surface  </td><td> 4520002 </td><td>1        </td></tr>\n",
       "\t<tr><th scope=row>Sample9</th><td>Surface  </td><td>10514422 </td><td>1        </td></tr>\n",
       "\t<tr><th scope=row>Sample10</th><td>Surface  </td><td>13584570 </td><td>1        </td></tr>\n",
       "\t<tr><th scope=row>Sample11</th><td>Surface  </td><td>10822012 </td><td>1        </td></tr>\n",
       "\t<tr><th scope=row>Sample12</th><td>Surface  </td><td> 9054206 </td><td>1        </td></tr>\n",
       "\t<tr><th scope=row>Sample25</th><td>Deep_150m</td><td>18823004 </td><td>1        </td></tr>\n",
       "\t<tr><th scope=row>Sample26</th><td>Deep_150m</td><td>11694061 </td><td>1        </td></tr>\n",
       "\t<tr><th scope=row>Sample27</th><td>Deep_150m</td><td>21877382 </td><td>1        </td></tr>\n",
       "\t<tr><th scope=row>Sample28</th><td>Deep_890m</td><td> 6080055 </td><td>1        </td></tr>\n",
       "\t<tr><th scope=row>Sample29</th><td>Deep_890m</td><td>25760115 </td><td>1        </td></tr>\n",
       "\t<tr><th scope=row>Sample30</th><td>Deep_890m</td><td>19980563 </td><td>1        </td></tr>\n",
       "\t<tr><th scope=row>Sample31</th><td>Deep_890m</td><td>22460354 </td><td>1        </td></tr>\n",
       "</tbody>\n",
       "</table>\n"
      ],
      "text/latex": [
       "\\begin{tabular}{r|lll}\n",
       "  & group & lib.size & norm.factors\\\\\n",
       "\\hline\n",
       "\tSample7 & Surface   &  8035213  & 1        \\\\\n",
       "\tSample8 & Surface   &  4520002  & 1        \\\\\n",
       "\tSample9 & Surface   & 10514422  & 1        \\\\\n",
       "\tSample10 & Surface   & 13584570  & 1        \\\\\n",
       "\tSample11 & Surface   & 10822012  & 1        \\\\\n",
       "\tSample12 & Surface   &  9054206  & 1        \\\\\n",
       "\tSample25 & Deep\\_150m & 18823004    & 1          \\\\\n",
       "\tSample26 & Deep\\_150m & 11694061    & 1          \\\\\n",
       "\tSample27 & Deep\\_150m & 21877382    & 1          \\\\\n",
       "\tSample28 & Deep\\_890m &  6080055    & 1          \\\\\n",
       "\tSample29 & Deep\\_890m & 25760115    & 1          \\\\\n",
       "\tSample30 & Deep\\_890m & 19980563    & 1          \\\\\n",
       "\tSample31 & Deep\\_890m & 22460354    & 1          \\\\\n",
       "\\end{tabular}\n"
      ],
      "text/markdown": [
       "\n",
       "| <!--/--> | group | lib.size | norm.factors | \n",
       "|---|---|---|---|---|---|---|---|---|---|---|---|---|\n",
       "| Sample7 | Surface   |  8035213  | 1         | \n",
       "| Sample8 | Surface   |  4520002  | 1         | \n",
       "| Sample9 | Surface   | 10514422  | 1         | \n",
       "| Sample10 | Surface   | 13584570  | 1         | \n",
       "| Sample11 | Surface   | 10822012  | 1         | \n",
       "| Sample12 | Surface   |  9054206  | 1         | \n",
       "| Sample25 | Deep_150m | 18823004  | 1         | \n",
       "| Sample26 | Deep_150m | 11694061  | 1         | \n",
       "| Sample27 | Deep_150m | 21877382  | 1         | \n",
       "| Sample28 | Deep_890m |  6080055  | 1         | \n",
       "| Sample29 | Deep_890m | 25760115  | 1         | \n",
       "| Sample30 | Deep_890m | 19980563  | 1         | \n",
       "| Sample31 | Deep_890m | 22460354  | 1         | \n",
       "\n",
       "\n"
      ],
      "text/plain": [
       "         group     lib.size norm.factors\n",
       "Sample7  Surface    8035213 1           \n",
       "Sample8  Surface    4520002 1           \n",
       "Sample9  Surface   10514422 1           \n",
       "Sample10 Surface   13584570 1           \n",
       "Sample11 Surface   10822012 1           \n",
       "Sample12 Surface    9054206 1           \n",
       "Sample25 Deep_150m 18823004 1           \n",
       "Sample26 Deep_150m 11694061 1           \n",
       "Sample27 Deep_150m 21877382 1           \n",
       "Sample28 Deep_890m  6080055 1           \n",
       "Sample29 Deep_890m 25760115 1           \n",
       "Sample30 Deep_890m 19980563 1           \n",
       "Sample31 Deep_890m 22460354 1           "
      ]
     },
     "metadata": {},
     "output_type": "display_data"
    }
   ],
   "source": [
    "#Normalize among replicates\n",
    "countfile<-rawdata[c(1:3,5,17:19,7:9,10:16)] #reorder columns so samples are in a row, Remove \"Depth\" and \"Count\" excess. \n",
    "dge.metaT<-DGEList(counts=countfile[,5:17],genes=countfile[1:4],group=c(rep(\"Surface\",6),rep(\"Deep_150m\",3),rep(\"Deep_890m\",4)))\n",
    "dge.metaT$samples\n",
    "data<-calcNormFactors(dge.metaT,method = \"TMM\")\n",
    "#plotMDS(data) #Option to plot in ordination space\n",
    "cpm_data<-cpm(data, normalized.lib.sizes=TRUE, log=FALSE) #obtain only CPM (not logged)\n",
    "cpm_data<-as.data.frame(cpm_data)  \n",
    "data_CPM<-data.frame(data$genes,cpm_data)\n",
    "#Calculate mean transcript CPM across replicates\n",
    "data_CPM$MeanCPM_surface<-apply(data_CPM[5:10],1,FUN=mean)\n",
    "data_CPM$MeanCPM_150m<-apply(data_CPM[11:13],1,FUN=mean)\n",
    "data_CPM$MeanCPM_890m<-apply(data_CPM[14:17],1,FUN=mean)\n",
    "#Output data_CPM has all data normalized between samples (depths)."
   ]
  },
  {
   "cell_type": "markdown",
   "metadata": {},
   "source": [
    "## Generate Figure 2 bar plots\n",
    "#### First import annotation information (in the form of R objects)"
   ]
  },
  {
   "cell_type": "code",
   "execution_count": 4,
   "metadata": {
    "collapsed": false
   },
   "outputs": [
    {
     "data": {
      "text/html": [
       "<table>\n",
       "<thead><tr><th scope=col>contig_ID</th><th scope=col>K0_number</th><th scope=col>Level2</th><th scope=col>Taxa</th></tr></thead>\n",
       "<tbody>\n",
       "\t<tr><td>k99_10000_surface  </td><td>K13789             </td><td>Haptophyte         </td><td>Haptophyte         </td></tr>\n",
       "\t<tr><td>k99_1000000_surface</td><td>NA                 </td><td>NA from database   </td><td>NA from database   </td></tr>\n",
       "\t<tr><td>k99_1000002_surface</td><td>NA                 </td><td>NA from database   </td><td>NA from database   </td></tr>\n",
       "\t<tr><td>k99_1000006_surface</td><td>NA                 </td><td>NA from database   </td><td>NA from database   </td></tr>\n",
       "\t<tr><td>k99_1000007_surface</td><td>K13025             </td><td>Chlorophyte        </td><td>Chlorophyte        </td></tr>\n",
       "\t<tr><td>k99_1000008_surface</td><td>NA                 </td><td>Pelagophyceae      </td><td>Other eukaryote    </td></tr>\n",
       "</tbody>\n",
       "</table>\n"
      ],
      "text/latex": [
       "\\begin{tabular}{r|llll}\n",
       " contig\\_ID & K0\\_number & Level2 & Taxa\\\\\n",
       "\\hline\n",
       "\t k99\\_10000\\_surface   & K13789                  & Haptophyte              & Haptophyte             \\\\\n",
       "\t k99\\_1000000\\_surface & NA                      & NA from database        & NA from database       \\\\\n",
       "\t k99\\_1000002\\_surface & NA                      & NA from database        & NA from database       \\\\\n",
       "\t k99\\_1000006\\_surface & NA                      & NA from database        & NA from database       \\\\\n",
       "\t k99\\_1000007\\_surface & K13025                  & Chlorophyte             & Chlorophyte            \\\\\n",
       "\t k99\\_1000008\\_surface & NA                      & Pelagophyceae           & Other eukaryote        \\\\\n",
       "\\end{tabular}\n"
      ],
      "text/markdown": [
       "\n",
       "contig_ID | K0_number | Level2 | Taxa | \n",
       "|---|---|---|---|---|---|\n",
       "| k99_10000_surface   | K13789              | Haptophyte          | Haptophyte          | \n",
       "| k99_1000000_surface | NA                  | NA from database    | NA from database    | \n",
       "| k99_1000002_surface | NA                  | NA from database    | NA from database    | \n",
       "| k99_1000006_surface | NA                  | NA from database    | NA from database    | \n",
       "| k99_1000007_surface | K13025              | Chlorophyte         | Chlorophyte         | \n",
       "| k99_1000008_surface | NA                  | Pelagophyceae       | Other eukaryote     | \n",
       "\n",
       "\n"
      ],
      "text/plain": [
       "  contig_ID           K0_number Level2           Taxa            \n",
       "1 k99_10000_surface   K13789    Haptophyte       Haptophyte      \n",
       "2 k99_1000000_surface NA        NA from database NA from database\n",
       "3 k99_1000002_surface NA        NA from database NA from database\n",
       "4 k99_1000006_surface NA        NA from database NA from database\n",
       "5 k99_1000007_surface K13025    Chlorophyte      Chlorophyte     \n",
       "6 k99_1000008_surface NA        Pelagophyceae    Other eukaryote "
      ]
     },
     "metadata": {},
     "output_type": "display_data"
    }
   ],
   "source": [
    "#Import taxonomic group names\n",
    "key.wtax<-read.delim(\"TaxaName_bycontig.txt\", header=TRUE, sep=\"\\t\")\n",
    "head(key.wtax)"
   ]
  },
  {
   "cell_type": "code",
   "execution_count": 5,
   "metadata": {
    "collapsed": false
   },
   "outputs": [
    {
     "data": {
      "text/html": [
       "<ol class=list-inline>\n",
       "\t<li>'X'</li>\n",
       "\t<li>'K0_number'</li>\n",
       "\t<li>'Level2'</li>\n",
       "\t<li>'Cluster'</li>\n",
       "\t<li>'Sample7'</li>\n",
       "\t<li>'Sample8'</li>\n",
       "\t<li>'Sample9'</li>\n",
       "\t<li>'Sample10'</li>\n",
       "\t<li>'Sample11'</li>\n",
       "\t<li>'Sample12'</li>\n",
       "\t<li>'Sample25'</li>\n",
       "\t<li>'Sample26'</li>\n",
       "\t<li>'Sample27'</li>\n",
       "\t<li>'Sample28'</li>\n",
       "\t<li>'Sample29'</li>\n",
       "\t<li>'Sample30'</li>\n",
       "\t<li>'Sample31'</li>\n",
       "\t<li>'MeanCPM_surface'</li>\n",
       "\t<li>'MeanCPM_150m'</li>\n",
       "\t<li>'MeanCPM_890m'</li>\n",
       "</ol>\n"
      ],
      "text/latex": [
       "\\begin{enumerate*}\n",
       "\\item 'X'\n",
       "\\item 'K0\\_number'\n",
       "\\item 'Level2'\n",
       "\\item 'Cluster'\n",
       "\\item 'Sample7'\n",
       "\\item 'Sample8'\n",
       "\\item 'Sample9'\n",
       "\\item 'Sample10'\n",
       "\\item 'Sample11'\n",
       "\\item 'Sample12'\n",
       "\\item 'Sample25'\n",
       "\\item 'Sample26'\n",
       "\\item 'Sample27'\n",
       "\\item 'Sample28'\n",
       "\\item 'Sample29'\n",
       "\\item 'Sample30'\n",
       "\\item 'Sample31'\n",
       "\\item 'MeanCPM\\_surface'\n",
       "\\item 'MeanCPM\\_150m'\n",
       "\\item 'MeanCPM\\_890m'\n",
       "\\end{enumerate*}\n"
      ],
      "text/markdown": [
       "1. 'X'\n",
       "2. 'K0_number'\n",
       "3. 'Level2'\n",
       "4. 'Cluster'\n",
       "5. 'Sample7'\n",
       "6. 'Sample8'\n",
       "7. 'Sample9'\n",
       "8. 'Sample10'\n",
       "9. 'Sample11'\n",
       "10. 'Sample12'\n",
       "11. 'Sample25'\n",
       "12. 'Sample26'\n",
       "13. 'Sample27'\n",
       "14. 'Sample28'\n",
       "15. 'Sample29'\n",
       "16. 'Sample30'\n",
       "17. 'Sample31'\n",
       "18. 'MeanCPM_surface'\n",
       "19. 'MeanCPM_150m'\n",
       "20. 'MeanCPM_890m'\n",
       "\n",
       "\n"
      ],
      "text/plain": [
       " [1] \"X\"               \"K0_number\"       \"Level2\"          \"Cluster\"        \n",
       " [5] \"Sample7\"         \"Sample8\"         \"Sample9\"         \"Sample10\"       \n",
       " [9] \"Sample11\"        \"Sample12\"        \"Sample25\"        \"Sample26\"       \n",
       "[13] \"Sample27\"        \"Sample28\"        \"Sample29\"        \"Sample30\"       \n",
       "[17] \"Sample31\"        \"MeanCPM_surface\" \"MeanCPM_150m\"    \"MeanCPM_890m\"   "
      ]
     },
     "metadata": {},
     "output_type": "display_data"
    }
   ],
   "source": [
    "names(data_CPM)"
   ]
  },
  {
   "cell_type": "code",
   "execution_count": 6,
   "metadata": {
    "collapsed": false
   },
   "outputs": [
    {
     "name": "stderr",
     "output_type": "stream",
     "text": [
      "Joining by: contig_ID\n",
      "Using Taxa as id variables\n"
     ]
    }
   ],
   "source": [
    "#Bar plot to show mean relative abundance of taxonomic groups based on transcript abundances\n",
    "contigTax<-data_CPM[c(1,18:20)] #isolate columns with mean CPM\n",
    "colnames(contigTax)[1]<-\"contig_ID\"\n",
    "contigTax2<-join(contigTax, key.wtax) #full taxa\n",
    "MeanCPM_tax<-contigTax2[c(6:7,2:4)]\n",
    "\n",
    "#Sum by mean transcript CPM\n",
    "MeanCPM_tax_sum<-aggregate(MeanCPM_tax[3:5], by=list(Taxa=MeanCPM_tax$Taxa),sum)\n",
    "m_tax_agg<-melt(MeanCPM_tax_sum)\n",
    "\n",
    "#Factoring - set up for plot\n",
    "variable<-c(\"MeanCPM_890m\",\"MeanCPM_150m\",\"MeanCPM_surface\")\n",
    "m_tax_agg$var<-factor(m_tax_agg$variable, levels=variable)\n",
    "tax_order=c(\"Dinoflagellate\",\"Ciliate\",\"Haptophyte\",\"Diatom\",\"Chlorophyte\",\"Other eukaryote\",\"Metazoa\", \"Multiple hits\", \"NA from database\")\n",
    "tax_color=c(\"#ca0020\",\"#ec7014\",\"#4eb3d3\",\"#fee391\",\"#238b45\",\"#807dba\",\"#737373\",\"#bdbdbd\",\"#ffffff\")\n",
    "names(tax_color)<-tax_order\n",
    "colScale<-scale_colour_manual(values=tax_color)\n",
    "m_tax_agg$tax<-factor(m_tax_agg$Taxa, levels=rev(tax_order))"
   ]
  },
  {
   "cell_type": "code",
   "execution_count": 7,
   "metadata": {
    "collapsed": false
   },
   "outputs": [
    {
     "data": {},
     "metadata": {},
     "output_type": "display_data"
    },
    {
     "data": {
      "image/png": "[encoded data removed]",
      "text/plain": [
       "plot without title"
      ]
     },
     "metadata": {},
     "output_type": "display_data"
    }
   ],
   "source": [
    "plot_tax<-ggplot(m_tax_agg[order(m_tax_agg$tax),],aes(y=value,x=var,fill=tax))+geom_bar(stat=\"identity\", position=\"fill\", color=\"#525252\")+labs(title=\"\", x=\"\",y=\"Relative abundance\\nCounts per million\")+theme_bw()+scale_x_discrete(labels=c(\"890 m\",\"150m \",\"Surface\"))+scale_fill_manual(values=tax_color)+coord_flip()+scale_y_continuous(position = \"top\")+theme(legend.title=element_blank(),legend.position=\"right\",legend.text.align=0, axis.text = element_text(color=\"black\"))\n",
    "plot_tax"
   ]
  },
  {
   "cell_type": "code",
   "execution_count": null,
   "metadata": {
    "collapsed": true
   },
   "outputs": [],
   "source": [
    "#For supplementary Table about taxonomic composition\n",
    "#suppTable<-aggregate(MeanCPM_tax[3:5], by=list(Taxa=MeanCPM_tax$Taxa, Taxa2=MeanCPM_tax$Level2),sum)\n",
    "#write.csv(suppTable, file=\"Supple_TaxTable.csv\")"
   ]
  },
  {
   "cell_type": "markdown",
   "metadata": {},
   "source": [
    "## UpsetR plot, Figure 3"
   ]
  },
  {
   "cell_type": "code",
   "execution_count": null,
   "metadata": {
    "collapsed": false
   },
   "outputs": [],
   "source": [
    "#library(UpSetR)"
   ]
  },
  {
   "cell_type": "code",
   "execution_count": null,
   "metadata": {
    "collapsed": true
   },
   "outputs": [],
   "source": [
    "#Contig and ortholog distribution import (from Parse and compile python script)\n",
    "tax_binary<-read.csv(\"Ortho_groups_by_taxa_binary.csv\")\n",
    "depth_binary<-read.csv(\"Ortho_by_depth_Binary.csv\")"
   ]
  },
  {
   "cell_type": "code",
   "execution_count": null,
   "metadata": {
    "collapsed": false
   },
   "outputs": [],
   "source": [
    "length(unique(depth_binary$Cluster))\n",
    "annot<-read.delim(\"Annotated_withKO_ids.txt\",header=F); colnames(annot)[1]<-\"Cluster\"; annot$annot<-\"Annotated\" #Import, change name, add a column\n",
    "depth_bin_annt<-join(depth_binary, annot, by=\"Cluster\",type=\"left\")\n",
    "\n",
    "#Relabel \"NAs\"\n",
    "depth_bin_annt[is.na(depth_bin_annt)]<-\"Unannotated\"\n",
    "unique(depth_bin_annt$annot)\n",
    "\n",
    "#Plot Figure 3:\n",
    "upset(depth_bin_annt,nsets=3,keep.order = TRUE,sets=c(\"deep890m\", \"deep150m\", \"surface\"),order.by=\"freq\",text.scale = 2,queries = list(list(query=intersects, params=list(\"annot\",\"Annotated\"),color=\"grey\",active=TRUE)), mainbar.y.label = \"Shared ortholog groups\", sets.x.label = \"Total ortholog groups\", sets.bar.color = \"#addd8e\",query.legend = \"bottom\")"
   ]
  },
  {
   "cell_type": "code",
   "execution_count": null,
   "metadata": {
    "collapsed": false
   },
   "outputs": [],
   "source": [
    "#Figure S4\n",
    "upset(tax_binary,nsets=5,keep.order = TRUE,text.scale = 1, sets=c(\"Dinoflagellate\", \"Ciliate\", \"Haptophyte\", \"Diatom\", \"Chlorophyte\"),number.angles = 45)"
   ]
  },
  {
   "cell_type": "markdown",
   "metadata": {},
   "source": [
    "## Ternary plots\n",
    "### whole community"
   ]
  },
  {
   "cell_type": "code",
   "execution_count": null,
   "metadata": {
    "collapsed": true
   },
   "outputs": [],
   "source": [
    "#Take CPM data, sum by labeled CPM\n",
    "#library(ggplot2)\n",
    "#library(ggtern)\n",
    "\n",
    "#start with data_CPM\n",
    "#head(data_CPM)\n",
    "#Import annotation information by contig\n",
    "K0_labeled<-read.delim(\"AnnotationInfo_bycontig.txt\",sep=\"\\t\",header=TRUE)"
   ]
  },
  {
   "cell_type": "code",
   "execution_count": null,
   "metadata": {
    "collapsed": false
   },
   "outputs": [],
   "source": [
    "#Add Kegg and labeled info to CPM df\n",
    "CPM_wAnnot<-join(data_CPM, K0_labeled)\n",
    "#Rows will be repeated.\n",
    "dim(data_CPM); dim(CPM_wAnnot) #CPM_wAnnot >> data_CPM wrt lines"
   ]
  },
  {
   "cell_type": "code",
   "execution_count": null,
   "metadata": {
    "collapsed": false
   },
   "outputs": [],
   "source": [
    "#Format for plots:\n",
    "CPM_wAnnot.m<-melt(CPM_wAnnot[c(1:3,18:20, 5:17,21:26)])\n",
    "CPM_wAnnot.m.norm<-subset(CPM_wAnnot.m, !(value<0)) #Option to remove genes based on CPM value. \n",
    "CPM_wAnnot.m.norm.noNA<-CPM_wAnnot.m.norm[!is.na(CPM_wAnnot.m.norm$Label),] \n",
    "#length(unique(CPM_wAnnot.m.norm.noNA$K0_number)) #Should be 10224 unique Kegg IDs\n",
    "tmp<-CPM_wAnnot.m.norm.noNA[c(2:4,9:11)] #remove the columns with any NAs\n",
    "tmp2<-tmp[!duplicated(tmp),] #remove duplicates, now that the A-C levels are gone. #duplicates are removed... but if a gene falls into multiple \"labels\" it is kept as such...\n",
    "tri_input<-dcast(tmp2, K0_number+Label+Level2+Gene_identification~variable,fun.aggregate = sum)\n"
   ]
  },
  {
   "cell_type": "code",
   "execution_count": null,
   "metadata": {
    "collapsed": true
   },
   "outputs": [],
   "source": [
    "#Targetted metabolic pathways and genes\n",
    "paths<-c(\"Photosynthesis\",\"Calvin cycle\",\"Glycolysis\",\"Gluconeogenesis\",\"AMT\",\"NRT\",\"Nitrate reduction (assimilatory)\",\"GS/GOGAT\",\"PDH\",\"por\",\"Urea cycle\",\"Fatty acid biosynthesis\",\"Fatty acid breakdown\",\"TCA cycle\",\"Glyoxylate cycle\",\"V-type ATPase\",\"Lysosome associated\",\"Chitinase\")"
   ]
  },
  {
   "cell_type": "code",
   "execution_count": null,
   "metadata": {
    "collapsed": false
   },
   "outputs": [],
   "source": [
    "#Generate ternary plot:\n",
    "#use means:\n",
    "tri_mean<-tri_input[c(1:7)]\n",
    "tri_whole<-aggregate(tri_mean[5:7], by=list(Label=tri_mean$Label),sum)\n",
    "tri_whole$sum<-apply(tri_whole[2:4],1,FUN=sum)\n",
    "tri_whole<-subset(tri_whole, Label %in% paths) #only grab things that are in path!\n",
    "\n",
    "#Factoring:\n",
    "tri_whole$pathway<-factor(tri_whole$Label, levels=paths)\n",
    "path_color<-c(\"#b2df8a\",\"#33a02c\",\"#a6cee3\",\"#1f78b4\",\"#e31a1c\",\"#fed976\",\"#e7298a\",\"#c7e9b4\",\"#f03b20\",\"#fd8d3c\",\"#662506\",\"#9e9ac8\",\"#54278f\",\"#01665e\",\"#80cdc1\",\"#ffffff\",\"#878787\",\"#000000\")\n",
    "names(path_color)<-paths\n",
    "colScale<-scale_colour_manual(values=path_color)\n",
    "\n",
    "#Plot:\n",
    "plot_tri_whole<-ggtern(tri_whole,aes(MeanCPM_surface, MeanCPM_150m,MeanCPM_890m))+geom_point(shape=21,aes(size=sum))+theme_rgbg()+ scale_size(range = c(4,20))+theme_custom(base_size = 12, base_family = \"\",tern.plot.background = \"transparent\", tern.panel.background = \"#d9d9d9\",col.T = \"#fd8d3c\", col.L = \"#cb181d\", col.R = \"#2171b5\",col.grid.minor = \"white\")+ theme_showarrows()+theme_rotate(degrees = 240)+theme_clockwise()+theme(legend.title = element_text(size=16, face=\"bold\"),legend.key=element_rect(fill='white'))+labs(title=\"\",x=\"Surface\",y=\"150m\",z=\"890m\")+labs(size=\"Relative CPM\", label=\"Pathway\")+scale_fill_manual(values=path_color) #path_color\n",
    "plot_tri_whole+geom_point(shape=21,aes(size=sum,fill=pathway))"
   ]
  },
  {
   "cell_type": "markdown",
   "metadata": {},
   "source": [
    "## Use tri_plot again to generate ternary plots by taxonomic group:"
   ]
  },
  {
   "cell_type": "code",
   "execution_count": null,
   "metadata": {
    "collapsed": false
   },
   "outputs": [],
   "source": [
    "#format plot:\n",
    "tri_mean<-tri_input[c(1:7)]\n",
    "tri_mean_sub<-subset(tri_mean, Label %in% paths)\n",
    "tri_tax.m<-melt(tri_mean_sub)\n",
    "tmp3<-aggregate(tri_tax.m$value, by=list(var=tri_tax.m$variable, Label=tri_tax.m$Label, Taxa=tri_tax.m$Level2),sum)\n",
    "\n",
    "#Calculate relative abundance BY tax and depth - Normalization step\n",
    "library(dplyr)\n",
    "tmp3_relAbun<-tmp3 %>% group_by(var, Taxa) %>% mutate(Relabun=x/sum(x))\n",
    "tmp3_relAbun<-as.data.frame(tmp3_relAbun)\n",
    "names(tmp3_relAbun)\n",
    "tri_wtax_agg<-dcast(tmp3_relAbun[c(1:3,5)],Label+Taxa~var)\n",
    "tri_wtax_agg[is.na(tri_wtax_agg)]<-0\n",
    "\n",
    "\n",
    "#Format and factor for ternary plot\n",
    "tri_wtax_agg$sum<-apply(tri_wtax_agg[3:5],1,FUN=sum) #get sums\n",
    "tri_wtax_agg$pathway<-factor(tri_wtax_agg$Label, levels=paths)\n",
    "path_color<-c(\"#b2df8a\",\"#33a02c\",\"#a6cee3\",\"#1f78b4\",\"#fed976\",\"#fed976\",\"#fa9fb5\",\"#fa9fb5\",\"#fd8d3c\",\"#fd8d3c\",\"#e31a1c\",\"#9e9ac8\",\"#54278f\",\"#80cdc1\",\"#80cdc1\",\"#ffffff\",\"#878787\",\"#000000\")\n",
    "names(path_color)<-paths\n",
    "colScale<-scale_colour_manual(values=path_color)\n",
    "unique(tri_wtax_agg$Label)\n",
    "tax_order<-c(\"Dinoflagellate\", \"Ciliate\",\"Haptophyte\", \"Diatom\", \"Chlorophyte\")\n",
    "tri_wtax_agg$Taxa_order<-factor(tri_wtax_agg$Taxa, levels=tax_order)"
   ]
  },
  {
   "cell_type": "code",
   "execution_count": null,
   "metadata": {
    "collapsed": false
   },
   "outputs": [],
   "source": [
    "#Plot:\n",
    "#library(ggtern)\n",
    "plot_tri_gene_tax<-ggtern(tri_wtax_agg[order(tri_wtax_agg$Taxa_order),],aes(MeanCPM_surface, MeanCPM_150m,MeanCPM_890m))+geom_point(shape=21,aes(size=sum,fill=pathway))+theme_rgbg()+ scale_size(range = c(2,10))+theme_custom(base_size = 8, base_family = \"\",tern.plot.background = \"transparent\", tern.panel.background = \"#d9d9d9\",col.T = \"#fd8d3c\", col.L = \"#cb181d\", col.R = \"#2171b5\",col.grid.minor = \"white\")+ theme_showarrows()+theme_rotate(degrees = 240)+theme_clockwise()+theme(legend.title = element_text(size=10, face=\"bold\"),legend.key=element_rect(fill='transparent'))+labs(title=\"\",x=\"Surface\",y=\"150m\",z=\"890m\")+labs(size=\"Relative CPM\", label=\"Pathway\")+scale_fill_manual(values=path_color)\n",
    "plot_tri_gene_tax %+% subset(tri_wtax_agg, Taxa %in% tax_order) + facet_wrap(~Taxa_order, ncol=3) + guides(fill=FALSE)"
   ]
  },
  {
   "cell_type": "markdown",
   "metadata": {},
   "source": [
    "# Generate CCA plot:"
   ]
  },
  {
   "cell_type": "code",
   "execution_count": null,
   "metadata": {
    "collapsed": false
   },
   "outputs": [],
   "source": [
    "#CCA plot: Input COMMON K0s across taxonomic groups. Input .csv file created in python notebook\n",
    "countfile_commonKO<-read.csv(\"Raw_Counts_ByTaxa_CommonKO.csv\") #raw count file\n",
    "dim(countfile_commonKO) #>8,000 contigs compiled, where accepted contigs for analysis had to have at least 1 count for K0 ID and taxonomic group\n",
    "#length(unique(countfile_commonKO$K0_number)) #n=1603\n",
    "#names(countfile_commonKO)\n",
    "countfile<-countfile_commonKO[c(1:2,13:15,3:5,6:12)]"
   ]
  },
  {
   "cell_type": "code",
   "execution_count": null,
   "metadata": {
    "collapsed": false
   },
   "outputs": [],
   "source": [
    "#Normalize again, similar to above\n",
    "#library(edgeR)\n",
    "dge.metaT.cca<-DGEList(counts=countfile[,3:15],genes=countfile[1:2],group=c(rep(\"Surface\",6),rep(\"Deep_150m\",3),rep(\"Deep_890m\",4)))\n",
    "dge.metaT.cca$samples\n",
    "data<-calcNormFactors(dge.metaT.cca,method=\"TMM\") #normalize library using trimmed mean of M-values\n",
    "cpm_data<-cpm(data, normalized.lib.sizes=TRUE, log=FALSE)\n",
    "cpm_data<-as.data.frame(cpm_data)  \n",
    "cca_cpm<-data.frame(data$genes,cpm_data)"
   ]
  },
  {
   "cell_type": "code",
   "execution_count": null,
   "metadata": {
    "collapsed": false
   },
   "outputs": [],
   "source": [
    "#Calculate relative abundance the mean CPM by taxonomic group.\n",
    "m.data_CPM<-melt(cca_cpm)\n",
    "# group_by Taxa and variabe\n",
    "norm.m.data_CPM<-m.data_CPM %>% group_by(Level2,variable) %>% mutate(count_norm=value/sum(value))\n",
    "norm.m.data_CPM<-as.data.frame(norm.m.data_CPM)\n",
    "\n",
    "#Make KEGG IDs column names:\n",
    "cpm_PCA.w<-dcast(norm.m.data_CPM[c(1:3,5)],Level2+variable~K0_number,fill=0) #not logged, normalized counts by taxonomic group\n",
    "#head(cpm_PCA.w[1:5])\n",
    "#unique(cpm_PCA.w$variable)\n",
    "row.names(cpm_PCA.w)<-paste(cpm_PCA.w$Level2,cpm_PCA.w$variable,sep=\"_\")"
   ]
  },
  {
   "cell_type": "code",
   "execution_count": null,
   "metadata": {
    "collapsed": true
   },
   "outputs": [],
   "source": [
    "#format a key:\n",
    "key_forPCA<-function(df){\n",
    "  df$shape<-22 #surface\n",
    "  deep150<-c(\"Sample25\", \"Sample26\", \"Sample27\")\n",
    "  df$shape[df$variable %in% deep150]=21\n",
    "  deep890<-c(\"Sample28\", \"Sample29\", \"Sample30\", \"Sample31\")\n",
    "  df$shape[df$variable %in% deep890]=24\n",
    "  #select taxa:\n",
    "  df$taxcolor[df$Level2==\"Dinoflagellate\"]=\"#ca0020\"\n",
    "  df$taxcolor[df$Level2==\"Ciliate\"]=\"#ec7014\"\n",
    "  df$taxcolor[df$Level2==\"Diatom\"]=\"#fee391\"\n",
    "  df$taxcolor[df$Level2==\"Chlorophyte\"]=\"#238b45\"\n",
    "  df$taxcolor[df$Level2==\"Haptophyte\"]=\"#4eb3d3\"\n",
    "  return(df)\n",
    "}\n",
    "cpm_PCA.w.key<-key_forPCA(cpm_PCA.w)"
   ]
  },
  {
   "cell_type": "code",
   "execution_count": null,
   "metadata": {
    "collapsed": false
   },
   "outputs": [],
   "source": [
    "#Calculate CCA and plot\n",
    "CCA_data<-cpm_PCA.w.key[3:1605] #only CCA input information\n",
    "key<-cpm_PCA.w.key[c(1:2,1606:1607)] #get key for coloring and such\n",
    "#^note on above lines, if calculating with own data, CCA input only takes numerics\n",
    "\n",
    "ca<-cca(CCA_data,scaling=TRUE)\n",
    "\n",
    "#CCA ploting set up:\n",
    "par(xpd=NA,oma=c(0,0,0,10)) \n",
    "eig<-eigenvals(ca); x<-signif((eig[1]*100),3); y<-signif((eig[2]*100),3) #extract variances for CCA1 and CCA2 axes\n",
    "plot(ca,type=c(\"points\"),display=c(\"wa\", \"sites\"),main=\"Core KEGG IDs among taxonomic groups\\nCCA normalized to each taxonomic group\",xlab=bquote(.(x)*\"%\"), ylab=(bquote(.(y)*\"%\")))\n",
    "points(ca,pch=key$shape,col=\"black\",bg=key$taxcolor,cex=1.5)\n",
    "legend(3.4,2.5,c(\"Surface\", \"150m\", \"890m\"),pch=c(0,1,2),col=c(\"black\"),cex=1,pt.cex=1.6,bty=\"n\",y.intersp=2)\n",
    "legend(3.4,1.5,c(\"Dinoflagellate\",\"Ciliate\",\"Haptophyte\",\"Diatom\",\"Chlorophyte\"),pch=15,col=c(\"#ca0020\",\"#ec7014\",\"#4eb3d3\",\"#fee391\",\"#238b45\"),cex=1,pt.cex=2,bty=\"n\",y.intersp=2) "
   ]
  },
  {
   "cell_type": "markdown",
   "metadata": {},
   "source": [
    "# Statistical analysis for ternary plots\n",
    "## Whole community"
   ]
  },
  {
   "cell_type": "code",
   "execution_count": null,
   "metadata": {
    "collapsed": false
   },
   "outputs": [],
   "source": [
    "#ANOVA stats on Whole community work:\n",
    "head(tri_input)\n",
    "names(tri_input)\n",
    "surface<-as.character(names(tri_input[8:13]))\n",
    "d150<-as.character(names(tri_input[14:16]))\n",
    "d890<-as.character(names(tri_input[17:20]))\n",
    "#take replicates into account to perform ANOVA\n",
    "aov_in<-melt(tri_input[c(1:4,8:20)])\n",
    "aov_in$Depth[aov_in$variable %in% surface]=\"Surface\"\n",
    "aov_in$Depth[aov_in$variable %in% d150]=\"Deep150m\"\n",
    "aov_in$Depth[aov_in$variable %in% d890]=\"Deep890m\"\n",
    "\n",
    "#pre-process:\n",
    "names(aov_in) #use below as well\n",
    "df_whole<-melt(aov_in[c(2,4,7,6)]) #select Label, Gene IDs, and values and melt\n",
    "#AOV stats:\n",
    "df<-subset(df_whole, Label %in% paths) #subset only labels that \"matter\"\n",
    "datav <- data.frame(diff = double(),\n",
    "                    lwr = double(),\n",
    "                    upr = double(),\n",
    "                    'p adj' = double(),\n",
    "                    'Label' = character())\n",
    "\n",
    "for (fxn in unique(df$Label)){\n",
    "  depth <- aov(df$value[df$Label==fxn] ~ df$Depth[df$Label==fxn]) #run analysis of variance model\n",
    "  hsd <- TukeyHSD(depth) #post-hoc statistics\n",
    "  tmp <- as.data.frame(hsd$`df$Depth[df$Label == fxn]`) \n",
    "  tmp$Label <- fxn \n",
    "  datav <- rbind(datav, tmp)\n",
    "}\n",
    "\n",
    "#write.csv(datav, file=\"AOV_result_wholecomm.csv\")"
   ]
  },
  {
   "cell_type": "markdown",
   "metadata": {},
   "source": [
    "## For each taxonomic group"
   ]
  },
  {
   "cell_type": "code",
   "execution_count": null,
   "metadata": {
    "collapsed": false
   },
   "outputs": [],
   "source": [
    "#stats by taxonomic group:\n",
    "names(aov_in)\n",
    "df_tax<-melt(aov_in[c(2:4,7,6)]) #select Label, Taxonomic groups, Gene IDs, and values and melt\n",
    "df_tax$Label2<-paste(df_tax$Label, df_tax$Level2, sep=\"_\") #this label incorporates both taxa and pathway\n",
    "df<-subset(df_tax, Label %in% paths) #subset only labels that \"matter\"\n",
    "datav <- data.frame(diff = double(),\n",
    "                    lwr = double(),\n",
    "                    upr = double(),\n",
    "                    'p adj' = double(),\n",
    "                    'Label2' = character())\n",
    "for (fxn in unique(df$Label2)){\n",
    "  depth <- aov(df$value[df$Label2==fxn] ~ df$Depth[df$Label2==fxn]) \n",
    "  hsd <- TukeyHSD(depth) \n",
    "  tmp <- as.data.frame(hsd$`df$Depth[df$Label2 == fxn]`) \n",
    "  tmp$Label2 <- fxn \n",
    "  datav <- rbind(datav, tmp)\n",
    "}\n",
    "\n",
    "\n",
    "#write.csv(datav, file=\"AOV_result_PathByTax.csv\")"
   ]
  },
  {
   "cell_type": "markdown",
   "metadata": {},
   "source": [
    "### End - last updated Sarah K. Hu 06-29-2017"
   ]
  }
 ],
 "metadata": {
  "kernelspec": {
   "display_name": "R",
   "language": "R",
   "name": "ir"
  },
  "language_info": {
   "codemirror_mode": "r",
   "file_extension": ".r",
   "mimetype": "text/x-r-source",
   "name": "R",
   "pygments_lexer": "r",
   "version": "3.3.2"
  }
 },
 "nbformat": 4,
 "nbformat_minor": 2
}
