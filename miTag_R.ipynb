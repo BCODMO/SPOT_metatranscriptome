{
 "cells": [
  {
   "cell_type": "markdown",
   "metadata": {},
   "source": [
    "# miTag analysis"
   ]
  },
  {
   "cell_type": "markdown",
   "metadata": {
    "collapsed": true
   },
   "source": [
    "## Import data from uclust taxonomy assignment \n",
    "### 10/05/2017\n",
    "### Output from assign taxonomy on rRNA separated reads is input as miTags here."
   ]
  },
  {
   "cell_type": "code",
   "execution_count": null,
   "metadata": {
    "collapsed": false
   },
   "outputs": [],
   "source": [
    "library(reshape2)\n",
    "library(plyr)\n",
    "library(dplyr)\n",
    "library(tidyr)\n",
    "library(ggplot2)\n",
    "library(gridExtra)"
   ]
  },
  {
   "cell_type": "markdown",
   "metadata": {
    "collapsed": false
   },
   "source": [
    "## Run below function to import raw taxonomy assignments from QIIME output.\n",
    "## Alternatively, run from miTag table already created, see below."
   ]
  },
  {
   "cell_type": "code",
   "execution_count": null,
   "metadata": {
    "collapsed": false
   },
   "outputs": [],
   "source": [
    "#All files listed from each QIIME assign taxonomy output.\n",
    "#miTagFiles<-c(\"/beleriand/Metatranscriptome_analysis/miTag_dir/Tax_assign_all/SPOT_150m_25_uclust/SPOT_150m_25_R1_tax_assignments.txt\",\"/beleriand/Metatranscriptome_analysis/miTag_dir/Tax_assign_all/SPOT_150m_26_uclust/SPOT_150m_26_R1_tax_assignments.txt\",\"/beleriand/Metatranscriptome_analysis/miTag_dir/Tax_assign_all/SPOT_150m_27_uclust/SPOT_150m_27_R1_tax_assignments.txt\",\"/beleriand/Metatranscriptome_analysis/miTag_dir/Tax_assign_all/SPOT_890m_28_uclust/SPOT_890m_28_R1_tax_assignments.txt\",\"/beleriand/Metatranscriptome_analysis/miTag_dir/Tax_assign_all/SPOT_890m_29_uclust/SPOT_890m_29_R1_tax_assignments.txt\",\"/beleriand/Metatranscriptome_analysis/miTag_dir/Tax_assign_all/SPOT_890m_30_uclust/SPOT_890m_30_R1_tax_assignments.txt\",\"/beleriand/Metatranscriptome_analysis/miTag_dir/Tax_assign_all/SPOT_890m_31_uclust/SPOT_890m_31_R1_tax_assignments.txt\",\"/beleriand/Metatranscriptome_analysis/miTag_dir/Tax_assign_all/SPOT_surface_10_uclust/SPOT_surface_10_R1_tax_assignments.txt\",\"/beleriand/Metatranscriptome_analysis/miTag_dir/Tax_assign_all/SPOT_surface_11_uclust/SPOT_surface_11_R1_tax_assignments.txt\",\"/beleriand/Metatranscriptome_analysis/miTag_dir/Tax_assign_all/SPOT_surface_12_uclust/SPOT_surface_12_R1_tax_assignments.txt\",\"/beleriand/Metatranscriptome_analysis/miTag_dir/Tax_assign_all/SPOT_surface_7_uclust/SPOT_surface_7_R1_tax_assignments.txt\",\"/beleriand/Metatranscriptome_analysis/miTag_dir/Tax_assign_all/SPOT_surface_8_uclust/SPOT_surface_8_R1_tax_assignments.txt\",\"/beleriand/Metatranscriptome_analysis/miTag_dir/Tax_assign_all/SPOT_surface_9_uclust/SPOT_surface_9_R1_tax_assignments.txt\")"
   ]
  },
  {
   "cell_type": "code",
   "execution_count": null,
   "metadata": {
    "collapsed": false
   },
   "outputs": [],
   "source": [
    "#rm(dataset);rm(tmpdata) #Make sure objects do not exist already\n",
    "#Function to import each file, modify, and concatenate\n",
    "for (file in miTagFiles){\n",
    "  if (!exists(\"dataset\")){\n",
    "    infile<-read.delim(file, header=FALSE)\n",
    "    infile$Count<-1\n",
    "    split<-colsplit(infile$V1, \"_\", c(\"Location\", \"Depth\", \"Rep\", \"Excess\")); split$Excess <-NULL\n",
    "    infile2<-cbind(split,infile)\n",
    "    infile2$Sample<-paste(infile2$Location, infile2$Depth, sep=\"_\")\n",
    "    dataset<-aggregate(infile2$Count, by=list(Sample=infile2$Sample, Taxonomy=infile2$V2),sum)\n",
    "  }\n",
    "  if (exists(\"dataset\")){\n",
    "    infile<-read.delim(file, header=FALSE)\n",
    "    infile$Count<-1\n",
    "    split<-colsplit(infile$V1, \"_\", c(\"Location\", \"Depth\", \"Rep\", \"Excess\")); split$Excess <-NULL\n",
    "    infile2<-cbind(split,infile)\n",
    "    infile2$Sample<-paste(infile2$Location, infile2$Depth, sep=\"_\")\n",
    "    tmpdata<-aggregate(infile2$Count, by=list(Sample=infile2$Sample, Taxonomy=infile2$V2),sum)\n",
    "    dataset<-rbind(dataset, tmpdata)\n",
    "    rm(tmpdata)\n",
    "  }\n",
    "}\n",
    "head(dataset)"
   ]
  },
  {
   "cell_type": "code",
   "execution_count": null,
   "metadata": {
    "collapsed": false
   },
   "outputs": [],
   "source": [
    "### Split Taxonomy column into multiple\n",
    "#dataset1<-dataset\n",
    "#Find and replace syntax\n",
    "#dataset1$Tax<-gsub(\"D_([0-9]*)__\",\"\", dataset1$Taxonomy)\n",
    "#dataset1$Tax<-gsub(\";;\",\"\", dataset1$Tax)\n",
    "#tmp<-colsplit(dataset1$Tax,';',c(\"Lev1\", \"Lev2\", \"Lev3\", \"Lev4\", \"Lev5\", \"Lev6\", \"Lev7\", \"Lev8\"))\n",
    "#summed_miTags<-cbind(dataset1[c(1,3)],tmp)\n",
    "#colnames(summed_miTags)[2]<-\"Count\"\n",
    "#save(summed_miTags, file=\"summed_miTags\")"
   ]
  },
  {
   "cell_type": "code",
   "execution_count": null,
   "metadata": {
    "collapsed": false
   },
   "outputs": [],
   "source": [
    "#Above may need to run overnight. Pick up from here.\n",
    "#load(\"summed_miTags\")\n",
    "#write.table(summed_miTags, file=\"miTags_alldepths.txt\", quote=FALSE, sep=\"\\t\", row.names=FALSE)\n",
    "summed_miTags<-read.delim(\"miTags_alldepths.txt\")"
   ]
  },
  {
   "cell_type": "code",
   "execution_count": null,
   "metadata": {
    "collapsed": false
   },
   "outputs": [],
   "source": [
    "head(summed_miTags)"
   ]
  },
  {
   "cell_type": "code",
   "execution_count": null,
   "metadata": {
    "collapsed": false
   },
   "outputs": [],
   "source": [
    "#Manual curation of taxonomy list:\n",
    "summed_miTags$Taxa<-\"Unassigned\"\n",
    "summed_miTags$Taxa[summed_miTags$Lev1 == \"Archaea\"]=\"Archaea\"\n",
    "summed_miTags$Taxa[summed_miTags$Lev1 == \"Bacteria\"]=\"Bacteria\"\n",
    "summed_miTags$Taxa[summed_miTags$Lev1 == \"Eukaryota\"]=\"Eukaryota\"\n",
    "domain<-aggregate(summed_miTags$Count, by=list(Domain=summed_miTags$Taxa, Sample=summed_miTags$Sample),sum)\n",
    "#\n",
    "#Subset only eukaryotic miTags and update the taxonomy\n",
    "euks<-subset(summed_miTags, Taxa %in% \"Eukaryota\") \n",
    "euks$Taxa[euks$Lev2 == \"Archaeplastida\"]=\"Archaeplastid\"\n",
    "euks$Taxa[euks$Lev2 == \"Amoebozoa\"]=\"Other eukaryote\"\n",
    "euks$Taxa[euks$Lev3 == \"Chloroplastida\"]=\"Chlorophyte\" #explore further at Lev6 and 7\n",
    "euks$Taxa[euks$Lev3 == \"Rhodophyceae\"]=\"Rhodophyte\"\n",
    "euks$Taxa[euks$Lev2 == \"Cryptophyceae\"]=\"Cryptophyte\"\n",
    "euks$Taxa[euks$Lev2 == \"Excavata\"]=\"Excavates\"\n",
    "euks$Taxa[euks$Lev2 == \"Haptophyta\"]=\"Haptophyte\" #further at Lev4\n",
    "euks$Taxa[euks$Lev2 == \"Opisthokonta\"]=\"Metazoa\"\n",
    "euks$Taxa[euks$Lev4 == \"Fungi\"]=\"Metazoa\"\n",
    "euks$Taxa[euks$Lev2 == \"SAR\"]=\"Other eukaryote\"\n",
    "euks$Taxa[euks$Lev4 == \"Apicomplexa\"]=\"Other eukaryote\" #no other way to classify\n",
    "euks$Taxa[euks$Lev3 == \"Alveolata\"]=\"Other Alveolate\"\n",
    "euks$Taxa[euks$Lev3 == \"uncultured ciliate\"]=\"Ciliate\" \n",
    "euks$Taxa[euks$Lev4 == \"Ciliophora\"]=\"Ciliate\" #Explore further at Lev7\n",
    "euks$Taxa[euks$Lev4 == \"Dinoflagellata\"]=\"Dinoflagellate\" #Explore further at Lev7\n",
    "euks$Taxa[euks$Lev2 == \"uncultured dinoflagellate\"]=\"Dinoflagellate\"\n",
    "euks$Taxa[euks$Lev5 == \"Syndiniales\"] = \"Syndiniales\"\n",
    "euks$Taxa[euks$Lev3 == \"Rhizaria\"]=\"Other Rhizaria\"\n",
    "euks$Taxa[euks$Lev4 == \"Cercozoa\"]=\"Cercozoa\" #lev5\n",
    "euks$Taxa[euks$Lev5 == \"Retaria\"]=\"Retaria\" #lev5\n",
    "euks$Taxa[euks$Lev3 == \"Stramenopiles\"]=\"Other Stramenopile\" #lev4 for more\n",
    "mast<-c(\"MAST-1\",\"MAST-11\",\"MAST-12\",\"MAST-16\",\"MAST-2\",\"MAST-22\",\"MAST-23\",\"MAST-24\",\"MAST-3\",\"MAST-4\",\"MAST-6\",\"MAST-7\",\"MAST-8\",\"MAST-9\")\n",
    "euks$Taxa[euks$Lev4 %in% mast]=\"MAST\"\n",
    "euks$Taxa[euks$Lev5 == \"Pelagophyceae\"]=\"Pelagophyte\"\n",
    "euks$Taxa[euks$Lev5 == \"Chrysophyceae\"]=\"Chrysophyte\"\n",
    "euks$Taxa[euks$Lev5 == \"Diatomea\"]=\"Diatom\" # Lev8 for more!\n",
    "other<-c(\"Ambiguous_taxa\",\"AB3F14RM1B12\",\"BW-dinoclone28\",\"Centrohelida\",\"D4P07G08\",\"DH147-EKD10\",\"Incertae Sedis\", \"SA1-3C06\", \"uncultured marine eukaryote\", \"Protosteliales sp. JvW-2015\", \"\", \"Picozoa\")\n",
    "euks$Taxa[euks$Lev2 %in% other]=\"Other eukaryote\"\n",
    "#\n",
    "euks$Taxa_simple<-euks$Taxa\n",
    "euks$Taxa_simple[euks$Taxa == \"Rhodophyte\"]=\"Archaeplastid\"\n",
    "euks$Taxa_simple[euks$Taxa == \"Other Alveolate\"]=\"Other eukaryote\"\n",
    "rhiz<-c(\"Other Rhizaria\", \"Cercozoa\", \"Retaria\")\n",
    "euks$Taxa_simple[euks$Taxa %in% rhiz]=\"Rhizaria\"\n",
    "euks$Taxa_simple[euks$Taxa == \"Other Stramenopile\"]=\"Other eukaryote\"\n",
    "euks$Taxa_simple[euks$Taxa == \"Chrysophyte\"]=\"Other eukaryote\"\n",
    "euks$Taxa_simple[euks$Taxa == \"Cryptophyte\"]=\"Other eukaryote\"\n"
   ]
  },
  {
   "cell_type": "code",
   "execution_count": null,
   "metadata": {
    "collapsed": true
   },
   "outputs": [],
   "source": [
    "#For generate Figure 2B\n",
    "simple_miTag<-aggregate(euks$Count, by=list(Sample=euks$Sample, Taxa_simple=euks$Taxa_simple),sum)\n",
    "#Generate table of miTag results\n",
    "euk_summary<-aggregate(euks$Count, by=list(Taxa_simple=euks$Taxa_simple,Taxa=euks$Taxa,Sample=euks$Sample),sum)"
   ]
  },
  {
   "cell_type": "code",
   "execution_count": null,
   "metadata": {
    "collapsed": false
   },
   "outputs": [],
   "source": [
    "#save(euks,domain,euk_summary,simple_miTag, file=\"miTag_dfs.RData\") #optional checkpoint to save dfs\n",
    "load(\"miTag_dfs.RData\",verbose=T)"
   ]
  },
  {
   "cell_type": "code",
   "execution_count": null,
   "metadata": {
    "collapsed": false
   },
   "outputs": [],
   "source": [
    "#Plot domain\n",
    "domain$var<-factor(domain$Sample, levels=c(\"SPOT_890m\", \"SPOT_150m\", \"SPOT_surface\"), labels = c(\"890 m\", \"150 m\", \"Surface\"))\n",
    "domain_color<-c(\"#b2182b\", \"#fed976\", \"#2171b5\", \"grey\")\n",
    "#\n",
    "plot_domain<-ggplot(domain,aes(y=x,x=var,fill=Domain))+geom_bar(stat=\"identity\", position=\"fill\", color=\"#525252\")+labs(title=\"\", x=\"\",y=\"miTag relative abundance\")+scale_y_continuous(position = \"top\", expand=c(0,0))+theme(legend.title=element_blank(),legend.position=\"right\",legend.text.align=0, axis.text = element_text(color=\"black\"),panel.grid.major = element_blank(), panel.grid.minor = element_blank(),panel.background = element_blank(),panel.border = element_blank(), axis.line = element_line())+coord_flip()+scale_x_discrete(limits=c(), expand = c(0, 0))+scale_fill_manual(values=domain_color)\n",
    "\n",
    "plot_domain"
   ]
  },
  {
   "cell_type": "code",
   "execution_count": null,
   "metadata": {
    "collapsed": false
   },
   "outputs": [],
   "source": [
    "#Plot taxonomy assignment to miTags\n",
    "##Figure 2B\n",
    "tax_order2=c(\"Dinoflagellate\",\"Syndiniales\",\"Ciliate\",\"Haptophyte\",\"Archaeplastid\",\"Chlorophyte\",\"MAST\",\"Diatom\",\"Pelagophyte\",\"Excavates\",\"Rhizaria\",\"Other eukaryote\",\"Metazoa\")\n",
    "tax_color2<-c(\"#c2a5cf\",\"#6a51a3\",\"#d53e4f\",\"#f46d43\",\"#006d2c\",\"#5aae61\",\"#c51b8a\",\"#e6f598\",\"#feb24c\",\"#e5f5e0\",\"#a6bddb\",\"#74add1\",\"#737373\")\n",
    "names(tax_color2)<-tax_order2\n",
    "colScale2<-scale_colour_manual(values=tax_color2)\n",
    "simple_miTag$tax<-factor(simple_miTag$Taxa_simple, levels=rev(tax_order2))\n",
    "simple_miTag$var<-factor(simple_miTag$Sample, levels=c(\"SPOT_890m\", \"SPOT_150m\", \"SPOT_surface\"), labels = c(\"890 m\", \"150 m\", \"Surface\"))\n",
    "\n",
    "plot_miTag_simple<-ggplot(simple_miTag[order(simple_miTag$tax),],aes(y=x,x=var,fill=tax))+geom_bar(stat=\"identity\", position=\"fill\", color=\"black\")+labs(title=\"\", x=\"\",y=\"Relative abundance miTag\")+scale_x_discrete(limits=c(), expand = c(0, 0))+scale_fill_manual(values=tax_color2)+coord_flip()+scale_y_continuous(position = \"top\", expand=c(0,0))+theme(legend.title=element_blank(),legend.position=\"right\",legend.text.align=0, axis.text = element_text(color=\"black\"),panel.grid.major = element_blank(), panel.grid.minor = element_blank(),panel.background = element_blank(),panel.border = element_blank(), axis.line = element_line())\n",
    "#\n",
    "plot_miTag_simple"
   ]
  },
  {
   "cell_type": "code",
   "execution_count": null,
   "metadata": {
    "collapsed": false
   },
   "outputs": [],
   "source": [
    "#Generate Table S7 to look at taxonomic breakdown:\n",
    "miTag_table<-dcast(euk_summary, Taxa_simple+Taxa~Sample, fill=0)\n",
    "#write.table(miTag_table, file=\"TableS7.txt\", quote=FALSE, sep=\"\\t\", row.names=FALSE)\n",
    "euks_all<-dcast(euks[c(12,11,3:6,1:2)], Taxa_simple+Taxa+Lev1+Lev2+Lev3+Lev4~Sample, fun.aggregate = sum)\n",
    "#write.table(euks_all, \"miTag_fulloutput.txt\", quote=FALSE, sep=\"\\t\", row.names=FALSE)"
   ]
  },
  {
   "cell_type": "code",
   "execution_count": null,
   "metadata": {
    "collapsed": false
   },
   "outputs": [],
   "source": [
    "#Look at taxa of interest\n",
    "#Figure S1 \n",
    "euks_2<-euks\n",
    "euks_2$Taxa2<-\"none\"\n",
    "euks_2$Lev7<-as.character(euks_2$Lev7)\n",
    "euks_2$Taxa2<-with(euks_2, ifelse(Taxa %in% \"Chlorophyte\", Lev7, Taxa2))\n",
    "euks_2$Lev4<-as.character(euks_2$Lev4)\n",
    "euks_2$Taxa2<-with(euks_2, ifelse(Taxa %in% \"Haptophyte\", Lev4, Taxa2))\n",
    "euks_2$Taxa2<-with(euks_2, ifelse(Taxa %in% \"Ciliate\", Lev7, Taxa2))\n",
    "euks_2$Taxa2<-with(euks_2, ifelse(Taxa %in% \"Dinoflagellate\", Lev7, Taxa2))\n",
    "euks_2$Lev8<-as.character(euks_2$Lev8)\n",
    "euks_2$Taxa2<-with(euks_2, ifelse(Taxa %in% \"Diatom\", Lev8, Taxa2))\n",
    "euks_2$Taxa2<-with(euks_2, ifelse(Taxa2 %in% \"\", paste(euks_2$Taxa, \"Uncertain\", sep=\" \"), Taxa2))\n",
    "euks_2<-as.data.frame(euks_2)\n",
    "head(euks_2)"
   ]
  },
  {
   "cell_type": "code",
   "execution_count": null,
   "metadata": {
    "collapsed": false
   },
   "outputs": [],
   "source": [
    "#Remove taxa we aren't interested in\n",
    "tax<-c(\"Dinoflagellate\",\"Ciliate\",\"Haptophyte\",\"Diatom\",\"Chlorophyte\")\n",
    "tmp1<-subset(euks_2, Taxa %in% tax)\n",
    "#Sum again by Taxa 2\n",
    "euks_3<-aggregate(tmp1$Count, by=list(Sample=tmp1$Sample, Taxa=tmp1$Taxa, Taxa2=tmp1$Taxa2),sum)\n",
    "head(euks_3)"
   ]
  },
  {
   "cell_type": "code",
   "execution_count": null,
   "metadata": {
    "collapsed": false
   },
   "outputs": [],
   "source": [
    "#First subset so that all hits are >500\n",
    "#Then, subset to the top 5 taxonomic groups to look at further resolution\n",
    "euks_4<-subset(euks_3, x>500)\n",
    "dim(euks_4)\n",
    "result <- euks_4 %>% \n",
    "  group_by(Sample, Taxa) %>%\n",
    "  top_n(n=5) %>%\n",
    "  arrange(Taxa,Taxa2,Sample)           \n",
    "top5<-as.data.frame(result)\n"
   ]
  },
  {
   "cell_type": "code",
   "execution_count": null,
   "metadata": {
    "collapsed": false
   },
   "outputs": [],
   "source": [
    "length(unique(top5$Taxa2))"
   ]
  },
  {
   "cell_type": "code",
   "execution_count": null,
   "metadata": {
    "collapsed": false
   },
   "outputs": [],
   "source": [
    "unique(top5$Taxa)\n",
    "unique(top5$Taxa2)"
   ]
  },
  {
   "cell_type": "code",
   "execution_count": null,
   "metadata": {
    "collapsed": true
   },
   "outputs": [],
   "source": [
    "#Plot each\n",
    "top5$var<-factor(top5$Sample, levels=c(\"SPOT_890m\", \"SPOT_150m\", \"SPOT_surface\"), labels = c(\"890 m\", \"150 m\", \"Surface\"))\n",
    "#\n",
    "plot_top5<-ggplot(top5,aes(y=x,x=var,fill=Taxa2))+geom_bar(stat=\"identity\", position=\"fill\", color=\"#525252\")+labs(title=\"\", x=\"\",y=\"Top 5 miTags in each taxonomic group\")+scale_x_discrete(limits=c(), expand = c(0, 0))+coord_flip()+scale_y_continuous(position = \"top\", expand=c(0,0))+theme(legend.title=element_blank(),legend.position=\"right\",legend.text.align=0, axis.text = element_text(color=\"black\"),panel.grid.major = element_blank(), panel.grid.minor = element_blank(),panel.background = element_blank(),panel.border = element_blank(), axis.line = element_line())"
   ]
  },
  {
   "cell_type": "code",
   "execution_count": null,
   "metadata": {
    "collapsed": false
   },
   "outputs": [],
   "source": [
    "plot_top5 %+% subset(top5, Taxa %in% \"Dinoflagellate\")+scale_fill_brewer(palette=\"Purples\")"
   ]
  },
  {
   "cell_type": "code",
   "execution_count": null,
   "metadata": {
    "collapsed": false
   },
   "outputs": [],
   "source": [
    "plot_top5 %+% subset(top5, Taxa %in% \"Ciliate\")+scale_fill_brewer(palette=\"Reds\")"
   ]
  },
  {
   "cell_type": "code",
   "execution_count": null,
   "metadata": {
    "collapsed": false
   },
   "outputs": [],
   "source": [
    "plot_top5 %+% subset(top5, Taxa %in% \"Haptophyte\")+scale_fill_brewer(palette=\"Oranges\")"
   ]
  },
  {
   "cell_type": "code",
   "execution_count": null,
   "metadata": {
    "collapsed": false
   },
   "outputs": [],
   "source": [
    "plot_top5 %+% subset(top5, Taxa %in% \"Diatom\")+scale_fill_brewer(palette=\"YlOrRd\")"
   ]
  },
  {
   "cell_type": "code",
   "execution_count": null,
   "metadata": {
    "collapsed": false
   },
   "outputs": [],
   "source": [
    "plot_top5 %+% subset(top5, Taxa %in% \"Chlorophyte\")+scale_fill_brewer(palette=\"Greens\")"
   ]
  },
  {
   "cell_type": "code",
   "execution_count": null,
   "metadata": {
    "collapsed": true
   },
   "outputs": [],
   "source": []
  }
 ],
 "metadata": {
  "kernelspec": {
   "display_name": "R",
   "language": "R",
   "name": "ir"
  },
  "language_info": {
   "codemirror_mode": "r",
   "file_extension": ".r",
   "mimetype": "text/x-r-source",
   "name": "R",
   "pygments_lexer": "r",
   "version": "3.3.2"
  }
 },
 "nbformat": 4,
 "nbformat_minor": 2
}
