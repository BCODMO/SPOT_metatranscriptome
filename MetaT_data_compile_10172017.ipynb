{
 "cells": [
  {
   "cell_type": "markdown",
   "metadata": {},
   "source": [
    "# Metatranscriptome data synthesis and plotting:\n",
    "### Last updated S.Hu 10-17-2017"
   ]
  },
  {
   "cell_type": "code",
   "execution_count": null,
   "metadata": {
    "collapsed": false
   },
   "outputs": [],
   "source": [
    "#Make sure these are all installed!\n",
    "library(edgeR)\n",
    "library(plyr)\n",
    "library(dplyr)\n",
    "library(reshape2)\n",
    "library(ggplot2)\n",
    "library(ggtern)\n",
    "library(UpSetR)\n",
    "library(vegan)"
   ]
  },
  {
   "cell_type": "markdown",
   "metadata": {},
   "source": [
    "# EdgeR normalization and importing annotation information"
   ]
  },
  {
   "cell_type": "code",
   "execution_count": null,
   "metadata": {
    "collapsed": false
   },
   "outputs": [],
   "source": [
    "#from python script - OrthoMCL parsing\n",
    "rawdata<-read.csv(\"RawCounts_bycontig_annotated.csv\", header=TRUE)\n",
    "head(rawdata); names(rawdata)"
   ]
  },
  {
   "cell_type": "code",
   "execution_count": null,
   "metadata": {
    "collapsed": true
   },
   "outputs": [],
   "source": [
    "#To run through script with a small dataset use:\n",
    "#rawdata<-read.csv(\"test_file_05022017.csv\")"
   ]
  },
  {
   "cell_type": "code",
   "execution_count": null,
   "metadata": {
    "collapsed": false
   },
   "outputs": [],
   "source": [
    "#Normalize among replicates\n",
    "countfile<-rawdata[c(1:3,5,17:19,7:9,10:16)] #reorder columns so samples are in a row, Remove \"Depth\" and \"Count\" excess. \n",
    "dge.metaT<-DGEList(counts=countfile[,5:17],genes=countfile[1:4],group=c(rep(\"Surface\",6),rep(\"Deep_150m\",3),rep(\"Deep_890m\",4)))\n",
    "dge.metaT$samples\n",
    "data<-calcNormFactors(dge.metaT,method = \"TMM\")\n",
    "#plotMDS(data) #Option to plot in ordination space\n",
    "cpm_data<-cpm(data, normalized.lib.sizes=TRUE, log=FALSE) #obtain only CPM (not logged)\n",
    "cpm_data<-as.data.frame(cpm_data)  \n",
    "data_CPM<-data.frame(data$genes,cpm_data)\n",
    "#Calculate mean transcript CPM across replicates\n",
    "data_CPM$MeanCPM_surface<-apply(data_CPM[5:10],1,FUN=mean)\n",
    "data_CPM$MeanCPM_150m<-apply(data_CPM[11:13],1,FUN=mean)\n",
    "data_CPM$MeanCPM_890m<-apply(data_CPM[14:17],1,FUN=mean)\n",
    "#Output data_CPM has all data normalized between samples (depths)."
   ]
  },
  {
   "cell_type": "markdown",
   "metadata": {},
   "source": [
    "## Generate Figure 2 bar plots\n",
    "#### First import annotation information (in the form of R objects)"
   ]
  },
  {
   "cell_type": "code",
   "execution_count": null,
   "metadata": {
    "collapsed": false
   },
   "outputs": [],
   "source": [
    "#Import taxonomic group names\n",
    "key.wtax<-read.delim(\"TaxaName_bycontig.txt\", header=TRUE, sep=\"\\t\")\n",
    "head(key.wtax)"
   ]
  },
  {
   "cell_type": "code",
   "execution_count": null,
   "metadata": {
    "collapsed": false
   },
   "outputs": [],
   "source": [
    "names(data_CPM)"
   ]
  },
  {
   "cell_type": "code",
   "execution_count": null,
   "metadata": {
    "collapsed": false
   },
   "outputs": [],
   "source": [
    "#Bar plot to show mean relative abundance of taxonomic groups based on transcript abundances\n",
    "contigTax<-data_CPM[c(1,18:20)] #isolate columns with mean CPM\n",
    "colnames(contigTax)[1]<-\"contig_ID\"\n",
    "contigTax2<-join(contigTax, key.wtax) #full taxa\n",
    "MeanCPM_tax<-contigTax2[c(6:7,2:4)]\n",
    "\n",
    "#Sum by mean transcript CPM\n",
    "MeanCPM_tax_sum<-aggregate(MeanCPM_tax[3:5], by=list(Taxa=MeanCPM_tax$Taxa),sum)\n",
    "m_tax_agg<-melt(MeanCPM_tax_sum)\n",
    "\n",
    "#Factoring - set up for plot\n",
    "variable<-c(\"MeanCPM_890m\",\"MeanCPM_150m\",\"MeanCPM_surface\")\n",
    "variable_labels<-c(\"890 m\", \"150 m\", \"Surface\")\n",
    "m_tax_agg$var<-factor(m_tax_agg$variable, levels=variable, labels = variable_labels)\n",
    "tax_order=c(\"Dinoflagellate\",\"Ciliate\",\"Haptophyte\",\"Diatom\",\"Chlorophyte\",\"Other eukaryote\",\"Metazoa\", \"Multiple hits\", \"NA from database\")\n",
    "tax_color<-c(\"#c2a5cf\",\"#d53e4f\", \"#f46d43\", \"#e6f598\", \"#5aae61\", \"#74add1\", \"#737373\",\"#bdbdbd\",\"#ffffff\")\n",
    "names(tax_color)<-tax_order\n",
    "colScale<-scale_colour_manual(values=tax_color)\n",
    "m_tax_agg$tax<-factor(m_tax_agg$Taxa, levels=rev(tax_order))\n"
   ]
  },
  {
   "cell_type": "code",
   "execution_count": null,
   "metadata": {
    "collapsed": false
   },
   "outputs": [],
   "source": [
    "plot_tax<-ggplot(m_tax_agg[order(m_tax_agg$tax),],aes(y=value,x=var,fill=tax))+geom_bar(stat=\"identity\", position=\"fill\", color=\"#525252\")+labs(title=\"\", x=\"\",y=\"Relative abundance CPM\")+scale_x_discrete(labels=c(\"890 m\",\"150m \",\"Surface\"))+scale_x_discrete(limits=c(), expand = c(0, 0))+scale_fill_manual(values=tax_color)+coord_flip()+scale_y_continuous(position = \"top\", expand=c(0,0))+theme(legend.title=element_blank(),legend.position=\"right\",legend.text.align=0, axis.text = element_text(color=\"black\"),panel.grid.major = element_blank(), panel.grid.minor = element_blank(),panel.background = element_blank(),panel.border = element_blank(), axis.line = element_line())\n",
    "plot_tax"
   ]
  },
  {
   "cell_type": "code",
   "execution_count": null,
   "metadata": {
    "collapsed": true
   },
   "outputs": [],
   "source": [
    "#For supplementary Table about taxonomic composition\n",
    "#suppTable<-aggregate(MeanCPM_tax[3:5], by=list(Taxa=MeanCPM_tax$Taxa, Taxa2=MeanCPM_tax$Level2),sum)\n",
    "#write.csv(suppTable, file=\"Supple_TaxTable.csv\")"
   ]
  },
  {
   "cell_type": "code",
   "execution_count": null,
   "metadata": {
    "collapsed": false
   },
   "outputs": [],
   "source": [
    "#Output from assign taxonomy on rRNA separated reads is input as miTags here.\n",
    "#***Insert name of other RData python notebook\n",
    "#*******\n",
    "setwd(\"/Users/SarahHu 1/Desktop/Projects/Metatranscriptomics work/miTag_analysis/\")\n",
    "load(\"miTag_dfs.RData\",verbose=T)\n",
    "setwd(\"/Users/SarahHu 1/Desktop/Projects/Metatranscriptomics work/SPOT_metaT_032017/\")"
   ]
  },
  {
   "cell_type": "code",
   "execution_count": null,
   "metadata": {
    "collapsed": false
   },
   "outputs": [],
   "source": [
    "#Plot domain\n",
    "domain$var<-factor(domain$Sample, levels=c(\"SPOT_890m\", \"SPOT_150m\", \"SPOT_surface\"), labels = c(\"890 m\", \"150 m\", \"Surface\"))\n",
    "domain_color<-c(\"#b2182b\", \"#fed976\", \"#2171b5\", \"grey\")\n",
    "#\n",
    "plot_domain<-ggplot(domain,aes(y=x,x=var,fill=Domain))+geom_bar(stat=\"identity\", position=\"fill\", color=\"#525252\")+labs(title=\"\", x=\"\",y=\"Relative abundance miTag\")+scale_x_discrete(limits=c(), expand = c(0, 0))+scale_fill_manual(values=domain_color)+coord_flip()+scale_y_continuous(position = \"top\", expand=c(0,0))+theme(legend.title=element_blank(),legend.position=\"right\",legend.text.align=0, axis.text = element_text(color=\"black\"),panel.grid.major = element_blank(), panel.grid.minor = element_blank(),panel.background = element_blank(),panel.border = element_blank(), axis.line = element_line())\n",
    "plot_domain"
   ]
  },
  {
   "cell_type": "code",
   "execution_count": null,
   "metadata": {
    "collapsed": false
   },
   "outputs": [],
   "source": [
    "#Updated with a differently updated version of R data\n",
    "\n",
    "#Plot miTag data\n",
    "tax_order=c(\"Dinoflagellate\",\"Syndiniales\",\"Other Alveolate\",\"Ciliate\",\"MAST\",\"Diatom\",\"Pelagophyte\",\"Chrysophyte\",\"Cryptophyte\",\"Other Stramenopile\",\"Haptophyte\",\"Archaeplastid\",\"Chlorophyte\",\"Rhodophyte\",\"Cercozoa\",\"Other Rhizaria\",\"Other eukaryote\",\"Metazoa\", \"Excavates\")\n",
    "tax_color<-c(\"#c2a5cf\",\"#6a51a3\",\"#3f007d\",\"#d53e4f\",\"#67000d\",\"#e6f598\",\"#feb24c\",\"#ec7014\",\"#d4b9da\",\"#df65b0\",\"#e7298a\",\"#006d2c\",\"#5aae61\",\"#c7e9c0\",\"#02818a\",\"#a6bddb\",\"#74add1\",\"#737373\", \"white\")\n",
    "names(tax_color)<-tax_order\n",
    "colScale<-scale_colour_manual(values=tax_color)\n",
    "sumEuk$tax<-factor(sumEuk$Taxa, levels=rev(tax_order))\n",
    "sumEuk$var<-factor(sumEuk$Sample, levels=c(\"SPOT_890m\", \"SPOT_150m\", \"SPOT_surface\"), labels = c(\"890 m\", \"150 m\", \"Surface\"))\n",
    "#\n",
    "plot_miTag<-ggplot(sumEuk[order(sumEuk$tax),],aes(y=x,x=var,fill=tax))+geom_bar(stat=\"identity\", position=\"fill\", color=\"black\")+labs(title=\"\", x=\"\",y=\"Relative abundance miTag\")+scale_x_discrete(limits=c(), expand = c(0, 0))+scale_fill_manual(values=tax_color)+coord_flip()+scale_y_continuous(position = \"top\", expand=c(0,0))+theme(legend.title=element_blank(),legend.position=\"right\",legend.text.align=0, axis.text = element_text(color=\"black\"),panel.grid.major = element_blank(), panel.grid.minor = element_blank(),panel.background = element_blank(),panel.border = element_blank(), axis.line = element_line())\n",
    "\n",
    "plot_miTag"
   ]
  },
  {
   "cell_type": "markdown",
   "metadata": {},
   "source": [
    "## UpsetR plot, Figure 3"
   ]
  },
  {
   "cell_type": "code",
   "execution_count": null,
   "metadata": {
    "collapsed": false
   },
   "outputs": [],
   "source": [
    "#library(UpSetR)"
   ]
  },
  {
   "cell_type": "code",
   "execution_count": null,
   "metadata": {
    "collapsed": true
   },
   "outputs": [],
   "source": [
    "#Contig and ortholog distribution import (from Parse and compile python script)\n",
    "tax_binary<-read.csv(\"Ortho_groups_by_taxa_binary.csv\")\n",
    "depth_binary<-read.csv(\"Ortho_by_depth_Binary.csv\")"
   ]
  },
  {
   "cell_type": "code",
   "execution_count": null,
   "metadata": {
    "collapsed": false
   },
   "outputs": [],
   "source": [
    "length(unique(depth_binary$Cluster))\n",
    "annot<-read.delim(\"Annotated_withKO_ids.txt\",header=F); colnames(annot)[1]<-\"Cluster\"; annot$annot<-\"Annotated\" #Import, change name, add a column\n",
    "depth_bin_annt<-join(depth_binary, annot, by=\"Cluster\",type=\"left\")\n",
    "\n",
    "#Relabel \"NAs\"\n",
    "depth_bin_annt[is.na(depth_bin_annt)]<-\"Unannotated\"\n",
    "unique(depth_bin_annt$annot)\n",
    "\n",
    "#Plot Figure 3:\n",
    "upset(depth_bin_annt,nsets=3,keep.order = TRUE,sets=c(\"deep890m\", \"deep150m\", \"surface\"),order.by=\"freq\",text.scale = 2,queries = list(list(query=intersects, params=list(\"annot\",\"Annotated\"),color=\"grey\",active=TRUE)), mainbar.y.label = \"Shared ortholog groups\", sets.x.label = \"Total ortholog groups\", sets.bar.color = \"#addd8e\",query.legend = \"bottom\")"
   ]
  },
  {
   "cell_type": "code",
   "execution_count": null,
   "metadata": {
    "collapsed": false
   },
   "outputs": [],
   "source": [
    "#Figure S4\n",
    "upset(tax_binary,nsets=5,keep.order = TRUE,text.scale = 1, sets=c(\"Dinoflagellate\", \"Ciliate\", \"Haptophyte\", \"Diatom\", \"Chlorophyte\"),number.angles = 45)"
   ]
  },
  {
   "cell_type": "markdown",
   "metadata": {},
   "source": [
    "## Ternary plots\n",
    "### whole community"
   ]
  },
  {
   "cell_type": "code",
   "execution_count": null,
   "metadata": {
    "collapsed": true
   },
   "outputs": [],
   "source": [
    "#Take CPM data, sum by labeled CPM\n",
    "#library(ggplot2)\n",
    "#library(ggtern)\n",
    "\n",
    "#start with data_CPM\n",
    "#head(data_CPM)\n",
    "#Import annotation information by contig\n",
    "K0_labeled<-read.delim(\"AnnotationInfo_bycontig.txt\",sep=\"\\t\",header=TRUE)"
   ]
  },
  {
   "cell_type": "code",
   "execution_count": null,
   "metadata": {
    "collapsed": false
   },
   "outputs": [],
   "source": [
    "#Add Kegg and labeled info to CPM df\n",
    "CPM_wAnnot<-join(data_CPM, K0_labeled)\n",
    "#Rows will be repeated.\n",
    "dim(data_CPM); dim(CPM_wAnnot) #CPM_wAnnot >> data_CPM wrt lines"
   ]
  },
  {
   "cell_type": "code",
   "execution_count": null,
   "metadata": {
    "collapsed": false
   },
   "outputs": [],
   "source": [
    "#Format for plots:\n",
    "CPM_wAnnot.m<-melt(CPM_wAnnot[c(1:3,18:20, 5:17,21:26)])\n",
    "CPM_wAnnot.m.norm<-subset(CPM_wAnnot.m, !(value<0)) #Option to remove genes based on CPM value. \n",
    "CPM_wAnnot.m.norm.noNA<-CPM_wAnnot.m.norm[!is.na(CPM_wAnnot.m.norm$Label),] \n",
    "#length(unique(CPM_wAnnot.m.norm.noNA$K0_number)) #Should be 10224 unique Kegg IDs\n",
    "tmp<-CPM_wAnnot.m.norm.noNA[c(2:4,9:11)] #remove the columns with any NAs\n",
    "tmp2<-tmp[!duplicated(tmp),] #remove duplicates, now that the A-C levels are gone. #duplicates are removed... but if a gene falls into multiple \"labels\" it is kept as such...\n",
    "tri_input<-dcast(tmp2, K0_number+Label+Level2+Gene_identification~variable,fun.aggregate = sum)\n"
   ]
  },
  {
   "cell_type": "code",
   "execution_count": null,
   "metadata": {
    "collapsed": true
   },
   "outputs": [],
   "source": [
    "#Targetted metabolic pathways and genes\n",
    "paths<-c(\"Photosynthesis\",\"Calvin cycle\",\"Glycolysis\",\"Gluconeogenesis\",\"AMT\",\"NRT\",\"Nitrate reduction (assimilatory)\",\"GS/GOGAT\",\"PDH\",\"por\",\"Urea cycle\",\"Fatty acid biosynthesis\",\"Fatty acid breakdown\",\"TCA cycle\",\"Glyoxylate cycle\",\"V-type ATPase\",\"Lysosome associated\",\"Chitinase\")"
   ]
  },
  {
   "cell_type": "code",
   "execution_count": null,
   "metadata": {
    "collapsed": true
   },
   "outputs": [],
   "source": [
    "#Generate ternary plot:\n",
    "#use means:\n",
    "tri_mean<-tri_input[c(1:7)]\n",
    "tri_whole<-aggregate(tri_mean[5:7], by=list(Label=tri_mean$Label),sum)\n",
    "tri_whole$sum<-apply(tri_whole[2:4],1,FUN=sum)\n",
    "tri_whole<-subset(tri_whole, Label %in% paths) #only grab things that are in path!"
   ]
  },
  {
   "cell_type": "code",
   "execution_count": null,
   "metadata": {
    "collapsed": false
   },
   "outputs": [],
   "source": [
    "#Factor and plot\n",
    "tri_whole$pathway<-factor(tri_whole$Label, levels=paths)\n",
    "path_color<-c(\"#b2df8a\",\"#33a02c\",\"#a6cee3\",\"#1f78b4\",\"#e31a1c\",\"#fed976\",\"#e7298a\",\"#c7e9b4\",\"#f03b20\",\"#fd8d3c\",\"#662506\",\"#9e9ac8\",\"#54278f\",\"#01665e\",\"#80cdc1\",\"#ffffff\",\"#878787\",\"#000000\")\n",
    "names(path_color)<-paths\n",
    "colScale<-scale_colour_manual(values=path_color)\n",
    "\n",
    "#Plot:\n",
    "plot_tri_whole<-ggtern(tri_whole,aes(MeanCPM_surface, MeanCPM_150m,MeanCPM_890m))+geom_point(shape=21,aes(size=sum,fill=pathway))+theme_rgbg()+ scale_size(range = c(4,20))+theme_custom(base_size = 12, base_family = \"\",tern.plot.background = \"transparent\", tern.panel.background = \"transparent\",col.T = \"#d95f0e\", col.L = \"#cb181d\", col.R = \"#2171b5\",col.grid.minor = \"white\")+ theme_showarrows()+theme_rotate(degrees = 240)+theme_clockwise()+theme(legend.title = element_text(size=16, face=\"bold\"),legend.key=element_rect(fill='white'))+labs(title=\"\",x=\"Surface\",y=\"150m\",z=\"890m\")+labs(size=\"Relative CPM\", label=\"Pathway\")+scale_fill_manual(values=path_color)+ theme_arrowlong()+theme_noticks()\n",
    "plot_tri_whole+ guides(colour = guide_legend(override.aes = list(size=4.5)))"
   ]
  },
  {
   "cell_type": "markdown",
   "metadata": {},
   "source": [
    "## Use tri_plot again to generate ternary plots by taxonomic group:"
   ]
  },
  {
   "cell_type": "code",
   "execution_count": null,
   "metadata": {
    "collapsed": false
   },
   "outputs": [],
   "source": [
    "#format plot:\n",
    "tri_mean<-tri_input[c(1:7)]\n",
    "tri_mean_sub<-subset(tri_mean, Label %in% paths)\n",
    "tri_tax.m<-melt(tri_mean_sub)\n",
    "tmp3<-aggregate(tri_tax.m$value, by=list(var=tri_tax.m$variable, Label=tri_tax.m$Label, Taxa=tri_tax.m$Level2),sum)\n",
    "\n",
    "#Calculate relative abundance BY tax and depth - Normalization step\n",
    "library(dplyr)\n",
    "tmp3_relAbun<-tmp3 %>% group_by(var, Taxa) %>% mutate(Relabun=x/sum(x))\n",
    "tmp3_relAbun<-as.data.frame(tmp3_relAbun)\n",
    "names(tmp3_relAbun)\n",
    "tri_wtax_agg<-dcast(tmp3_relAbun[c(1:3,5)],Label+Taxa~var)\n",
    "tri_wtax_agg[is.na(tri_wtax_agg)]<-0\n",
    "\n",
    "\n",
    "#Format and factor for ternary plot\n",
    "tri_wtax_agg$sum<-apply(tri_wtax_agg[3:5],1,FUN=sum) #get sums\n",
    "tri_wtax_agg$pathway<-factor(tri_wtax_agg$Label, levels=paths)\n",
    "path_color<-c(\"#b2df8a\",\"#33a02c\",\"#a6cee3\",\"#1f78b4\",\"#fed976\",\"#fed976\",\"#fa9fb5\",\"#fa9fb5\",\"#fd8d3c\",\"#fd8d3c\",\"#e31a1c\",\"#9e9ac8\",\"#54278f\",\"#80cdc1\",\"#80cdc1\",\"#ffffff\",\"#878787\",\"#000000\")\n",
    "names(path_color)<-paths\n",
    "colScale<-scale_colour_manual(values=path_color)\n",
    "unique(tri_wtax_agg$Label)\n",
    "tax_order<-c(\"Dinoflagellate\", \"Ciliate\",\"Haptophyte\", \"Diatom\", \"Chlorophyte\")\n",
    "tri_wtax_agg$Taxa_order<-factor(tri_wtax_agg$Taxa, levels=tax_order)"
   ]
  },
  {
   "cell_type": "code",
   "execution_count": null,
   "metadata": {
    "collapsed": false
   },
   "outputs": [],
   "source": [
    "#Plot:\n",
    "#library(ggtern)\n",
    "plot_tri_gene_tax<-ggtern(tri_wtax_agg[order(tri_wtax_agg$Taxa_order),],aes(MeanCPM_surface, MeanCPM_150m,MeanCPM_890m))+geom_point(shape=21,aes(size=sum,fill=pathway))+theme_rgbg()+ scale_size(range = c(2,10))+theme_custom(base_size = 8, base_family = \"\",tern.plot.background = \"transparent\", tern.panel.background = \"#d9d9d9\",col.T = \"#fd8d3c\", col.L = \"#cb181d\", col.R = \"#2171b5\",col.grid.minor = \"white\")+ theme_showarrows()+theme_rotate(degrees = 240)+theme_clockwise()+theme(legend.title = element_text(size=10, face=\"bold\"),legend.key=element_rect(fill='transparent'))+labs(title=\"\",x=\"Surface\",y=\"150m\",z=\"890m\")+labs(size=\"Relative CPM\", label=\"Pathway\")+scale_fill_manual(values=path_color)\n",
    "plot_tri_gene_tax %+% subset(tri_wtax_agg, Taxa %in% tax_order) + facet_wrap(~Taxa_order, ncol=3) + guides(fill=FALSE)"
   ]
  },
  {
   "cell_type": "markdown",
   "metadata": {},
   "source": [
    "# Generate CCA plot:"
   ]
  },
  {
   "cell_type": "code",
   "execution_count": null,
   "metadata": {
    "collapsed": false
   },
   "outputs": [],
   "source": [
    "#CCA plot: Input COMMON K0s across taxonomic groups. Input .csv file created in python notebook\n",
    "countfile_commonKO<-read.csv(\"Raw_Counts_ByTaxa_CommonKO.csv\") #raw count file\n",
    "dim(countfile_commonKO) #>8,000 contigs compiled, where accepted contigs for analysis had to have at least 1 count for K0 ID and taxonomic group\n",
    "#length(unique(countfile_commonKO$K0_number)) #n=1603\n",
    "#names(countfile_commonKO)\n",
    "countfile<-countfile_commonKO[c(1:2,13:15,3:5,6:12)]"
   ]
  },
  {
   "cell_type": "code",
   "execution_count": null,
   "metadata": {
    "collapsed": false
   },
   "outputs": [],
   "source": [
    "#Normalize again, similar to above\n",
    "#library(edgeR)\n",
    "dge.metaT.cca<-DGEList(counts=countfile[,3:15],genes=countfile[1:2],group=c(rep(\"Surface\",6),rep(\"Deep_150m\",3),rep(\"Deep_890m\",4)))\n",
    "dge.metaT.cca$samples\n",
    "data<-calcNormFactors(dge.metaT.cca,method=\"TMM\") #normalize library using trimmed mean of M-values\n",
    "cpm_data<-cpm(data, normalized.lib.sizes=TRUE, log=FALSE)\n",
    "cpm_data<-as.data.frame(cpm_data)  \n",
    "cca_cpm<-data.frame(data$genes,cpm_data)"
   ]
  },
  {
   "cell_type": "code",
   "execution_count": null,
   "metadata": {
    "collapsed": false
   },
   "outputs": [],
   "source": [
    "#Calculate relative abundance the mean CPM by taxonomic group.\n",
    "m.data_CPM<-melt(cca_cpm)\n",
    "# group_by Taxa and variabe\n",
    "norm.m.data_CPM<-m.data_CPM %>% group_by(Level2,variable) %>% mutate(count_norm=value/sum(value))\n",
    "norm.m.data_CPM<-as.data.frame(norm.m.data_CPM)\n",
    "\n",
    "#Make KEGG IDs column names:\n",
    "cpm_PCA.w<-dcast(norm.m.data_CPM[c(1:3,5)],Level2+variable~K0_number,fill=0) #not logged, normalized counts by taxonomic group\n",
    "#head(cpm_PCA.w[1:5])\n",
    "#unique(cpm_PCA.w$variable)\n",
    "row.names(cpm_PCA.w)<-paste(cpm_PCA.w$Level2,cpm_PCA.w$variable,sep=\"_\")"
   ]
  },
  {
   "cell_type": "code",
   "execution_count": null,
   "metadata": {
    "collapsed": false
   },
   "outputs": [],
   "source": [
    "#format a key:\n",
    "key_forPCA<-function(df){\n",
    "  df$shape<-22 #surface\n",
    "  deep150<-c(\"Sample25\", \"Sample26\", \"Sample27\")\n",
    "  df$shape[df$variable %in% deep150]=21\n",
    "  deep890<-c(\"Sample28\", \"Sample29\", \"Sample30\", \"Sample31\")\n",
    "  df$shape[df$variable %in% deep890]=24\n",
    "  #select taxa:\n",
    "  df$taxcolor[df$Level2==\"Dinoflagellate\"]=\"#c2a5cf\"\n",
    "  df$taxcolor[df$Level2==\"Ciliate\"]=\"#d53e4f\"\n",
    "  df$taxcolor[df$Level2==\"Diatom\"]=\"#e6f598\"\n",
    "  df$taxcolor[df$Level2==\"Chlorophyte\"]=\"#5aae61\"\n",
    "  df$taxcolor[df$Level2==\"Haptophyte\"]=\"#f46d43\"\n",
    "  return(df)\n",
    "}\n",
    "cpm_PCA.w.key<-key_forPCA(cpm_PCA.w)"
   ]
  },
  {
   "cell_type": "code",
   "execution_count": null,
   "metadata": {
    "collapsed": false
   },
   "outputs": [],
   "source": [
    "#Calculate CCA and plot\n",
    "CCA_data<-cpm_PCA.w.key[3:1605] #only CCA input information\n",
    "key<-cpm_PCA.w.key[c(1:2,1606:1607)] #get key for coloring and such\n",
    "#^note on above lines, if calculating with own data, CCA input only takes numerics\n",
    "\n",
    "ca<-cca(CCA_data,scaling=TRUE)\n",
    "\n",
    "#CCA ploting set up:\n",
    "par(xpd=FALSE,oma=c(0,0,0,8)) \n",
    "eig<-eigenvals(ca); x<-signif((eig[1]*100),3); y<-signif((eig[2]*100),3) #extract variances for CCA1 and CCA2 axes\n",
    "plot(ca,type=c(\"points\"),display=c(\"wa\", \"sites\"),main=\"\",xlab=bquote(.(x)*\"%\"), ylab=(bquote(.(y)*\"%\")))\n",
    "points(ca,pch=key$shape,col=\"black\",bg=key$taxcolor,cex=1.5)\n",
    "par(xpd=NA) \n",
    "legend(3.4,2.5,c(\"Surface\", \"150m\", \"890m\"),pch=c(0,1,2),col=c(\"black\"),cex=1,pt.cex=1.6,bty=\"n\",y.intersp=2)\n",
    "legend(3.4,1.5,c(\"Dinoflagellate\",\"Ciliate\",\"Haptophyte\",\"Diatom\",\"Chlorophyte\"),pch=22,pt.bg=c(\"#c2a5cf\",\"#d53e4f\", \"#f46d43\", \"#e6f598\", \"#5aae61\"),col=c(\"black\",\"black\",\"black\",\"black\",\"black\"),y.intersp=2,bty=\"n\",pt.cex=2,cex=1) "
   ]
  },
  {
   "cell_type": "markdown",
   "metadata": {},
   "source": [
    "# Statistical analysis for ternary plots\n",
    "## Whole community"
   ]
  },
  {
   "cell_type": "code",
   "execution_count": null,
   "metadata": {
    "collapsed": false
   },
   "outputs": [],
   "source": [
    "#ANOVA stats on Whole community work:\n",
    "head(tri_input)\n",
    "names(tri_input)\n",
    "surface<-as.character(names(tri_input[8:13]))\n",
    "d150<-as.character(names(tri_input[14:16]))\n",
    "d890<-as.character(names(tri_input[17:20]))\n",
    "#take replicates into account to perform ANOVA\n",
    "aov_in<-melt(tri_input[c(1:4,8:20)])\n",
    "aov_in$Depth[aov_in$variable %in% surface]=\"Surface\"\n",
    "aov_in$Depth[aov_in$variable %in% d150]=\"Deep150m\"\n",
    "aov_in$Depth[aov_in$variable %in% d890]=\"Deep890m\"\n",
    "\n",
    "#pre-process:\n",
    "names(aov_in) #use below as well\n",
    "df_whole<-melt(aov_in[c(2,4,7,6)]) #select Label, Gene IDs, and values and melt\n",
    "#AOV stats:\n",
    "df<-subset(df_whole, Label %in% paths) #subset only labels that \"matter\"\n",
    "datav <- data.frame(diff = double(),\n",
    "                    lwr = double(),\n",
    "                    upr = double(),\n",
    "                    'p adj' = double(),\n",
    "                    'Label' = character())\n",
    "\n",
    "for (fxn in unique(df$Label)){\n",
    "  depth <- aov(df$value[df$Label==fxn] ~ df$Depth[df$Label==fxn]) #run analysis of variance model\n",
    "  hsd <- TukeyHSD(depth) #post-hoc statistics\n",
    "  tmp <- as.data.frame(hsd$`df$Depth[df$Label == fxn]`) \n",
    "  tmp$Label <- fxn \n",
    "  datav <- rbind(datav, tmp)\n",
    "}\n",
    "\n",
    "#write.csv(datav, file=\"AOV_result_wholecomm.csv\")"
   ]
  },
  {
   "cell_type": "markdown",
   "metadata": {},
   "source": [
    "## For each taxonomic group"
   ]
  },
  {
   "cell_type": "code",
   "execution_count": null,
   "metadata": {
    "collapsed": false
   },
   "outputs": [],
   "source": [
    "#stats by taxonomic group:\n",
    "names(aov_in)\n",
    "df_tax<-melt(aov_in[c(2:4,7,6)]) #select Label, Taxonomic groups, Gene IDs, and values and melt\n",
    "df_tax$Label2<-paste(df_tax$Label, df_tax$Level2, sep=\"_\") #this label incorporates both taxa and pathway\n",
    "df<-subset(df_tax, Label %in% paths) #subset only labels that \"matter\"\n",
    "datav <- data.frame(diff = double(),\n",
    "                    lwr = double(),\n",
    "                    upr = double(),\n",
    "                    'p adj' = double(),\n",
    "                    'Label2' = character())\n",
    "for (fxn in unique(df$Label2)){\n",
    "  depth <- aov(df$value[df$Label2==fxn] ~ df$Depth[df$Label2==fxn]) \n",
    "  hsd <- TukeyHSD(depth) \n",
    "  tmp <- as.data.frame(hsd$`df$Depth[df$Label2 == fxn]`) \n",
    "  tmp$Label2 <- fxn \n",
    "  datav <- rbind(datav, tmp)\n",
    "}\n",
    "\n",
    "\n",
    "#write.csv(datav, file=\"AOV_result_PathByTax.csv\")"
   ]
  },
  {
   "cell_type": "markdown",
   "metadata": {},
   "source": [
    "# End - last updated Sarah K. Hu 10-17-2017"
   ]
  }
 ],
 "metadata": {
  "kernelspec": {
   "display_name": "R",
   "language": "R",
   "name": "ir"
  },
  "language_info": {
   "codemirror_mode": "r",
   "file_extension": ".r",
   "mimetype": "text/x-r-source",
   "name": "R",
   "pygments_lexer": "r",
   "version": "3.3.2"
  }
 },
 "nbformat": 4,
 "nbformat_minor": 2
}
